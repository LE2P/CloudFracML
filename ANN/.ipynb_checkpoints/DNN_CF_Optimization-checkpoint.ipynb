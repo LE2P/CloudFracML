{
 "cells": [
  {
   "cell_type": "markdown",
   "metadata": {
    "tags": []
   },
   "source": [
    "\n",
    "# Using ANN model for longawave estimation of cloud fraction "
   ]
  },
  {
   "cell_type": "markdown",
   "metadata": {},
   "source": [
    "\n",
    "## Step 1 - Import and init"
   ]
  },
  {
   "cell_type": "code",
   "execution_count": 14,
   "metadata": {},
   "outputs": [],
   "source": [
    "import tensorflow as tf\n",
    "import numpy as np\n",
    "import matplotlib.pyplot as plt\n",
    "import pandas as pd\n",
    "import os,sys\n",
    "import time\n",
    "import keras_tuner as kt \n",
    "\n",
    "from tensorflow import keras\n",
    "from keras.callbacks import EarlyStopping\n",
    "from numpy import loadtxt\n",
    "from keras.models import load_model\n",
    "from pathlib import Path\n",
    "from keras.callbacks import EarlyStopping\n",
    "from keras_tuner import HyperParameters \n",
    "\n",
    "sys.path.append('..')\n",
    "path = '/home/monitor/IGE_DOC/GIT_REPO/LongwaveEstimationOfCloudFraction-With-XGBoost-And-ANNmodel/Data/'\n"
   ]
  },
  {
   "cell_type": "markdown",
   "metadata": {},
   "source": [
    "## Step 2 - Retrieve data"
   ]
  },
  {
   "cell_type": "code",
   "execution_count": 15,
   "metadata": {},
   "outputs": [
    {
     "data": {
      "text/html": [
       "<div>\n",
       "<style scoped>\n",
       "    .dataframe tbody tr th:only-of-type {\n",
       "        vertical-align: middle;\n",
       "    }\n",
       "\n",
       "    .dataframe tbody tr th {\n",
       "        vertical-align: top;\n",
       "    }\n",
       "\n",
       "    .dataframe thead th {\n",
       "        text-align: right;\n",
       "    }\n",
       "</style>\n",
       "<table border=\"1\" class=\"dataframe\">\n",
       "  <thead>\n",
       "    <tr style=\"text-align: right;\">\n",
       "      <th></th>\n",
       "      <th>GSW</th>\n",
       "      <th>SWDif</th>\n",
       "      <th>SWDir</th>\n",
       "      <th>LWdn</th>\n",
       "      <th>T</th>\n",
       "      <th>H</th>\n",
       "      <th>P</th>\n",
       "      <th>CF</th>\n",
       "    </tr>\n",
       "  </thead>\n",
       "  <tbody>\n",
       "    <tr>\n",
       "      <th>0</th>\n",
       "      <td>1101.2</td>\n",
       "      <td>257.0</td>\n",
       "      <td>929.6</td>\n",
       "      <td>369.2</td>\n",
       "      <td>25.08</td>\n",
       "      <td>51.08</td>\n",
       "      <td>1010.0</td>\n",
       "      <td>0.4502</td>\n",
       "    </tr>\n",
       "    <tr>\n",
       "      <th>1</th>\n",
       "      <td>1004.8</td>\n",
       "      <td>385.8</td>\n",
       "      <td>683.2</td>\n",
       "      <td>378.8</td>\n",
       "      <td>24.62</td>\n",
       "      <td>53.58</td>\n",
       "      <td>1010.0</td>\n",
       "      <td>0.5632</td>\n",
       "    </tr>\n",
       "    <tr>\n",
       "      <th>2</th>\n",
       "      <td>942.0</td>\n",
       "      <td>479.8</td>\n",
       "      <td>509.2</td>\n",
       "      <td>388.8</td>\n",
       "      <td>24.52</td>\n",
       "      <td>55.04</td>\n",
       "      <td>1010.0</td>\n",
       "      <td>0.6224</td>\n",
       "    </tr>\n",
       "    <tr>\n",
       "      <th>3</th>\n",
       "      <td>432.2</td>\n",
       "      <td>410.8</td>\n",
       "      <td>21.4</td>\n",
       "      <td>388.8</td>\n",
       "      <td>23.76</td>\n",
       "      <td>56.80</td>\n",
       "      <td>1010.0</td>\n",
       "      <td>0.5408</td>\n",
       "    </tr>\n",
       "    <tr>\n",
       "      <th>4</th>\n",
       "      <td>823.4</td>\n",
       "      <td>370.2</td>\n",
       "      <td>490.4</td>\n",
       "      <td>374.4</td>\n",
       "      <td>24.02</td>\n",
       "      <td>55.60</td>\n",
       "      <td>1010.0</td>\n",
       "      <td>0.3544</td>\n",
       "    </tr>\n",
       "    <tr>\n",
       "      <th>...</th>\n",
       "      <td>...</td>\n",
       "      <td>...</td>\n",
       "      <td>...</td>\n",
       "      <td>...</td>\n",
       "      <td>...</td>\n",
       "      <td>...</td>\n",
       "      <td>...</td>\n",
       "      <td>...</td>\n",
       "    </tr>\n",
       "    <tr>\n",
       "      <th>64923</th>\n",
       "      <td>357.2</td>\n",
       "      <td>355.6</td>\n",
       "      <td>2.6</td>\n",
       "      <td>425.8</td>\n",
       "      <td>27.34</td>\n",
       "      <td>65.78</td>\n",
       "      <td>1003.0</td>\n",
       "      <td>0.7756</td>\n",
       "    </tr>\n",
       "    <tr>\n",
       "      <th>64924</th>\n",
       "      <td>352.8</td>\n",
       "      <td>352.0</td>\n",
       "      <td>0.6</td>\n",
       "      <td>428.6</td>\n",
       "      <td>27.38</td>\n",
       "      <td>65.62</td>\n",
       "      <td>1003.0</td>\n",
       "      <td>0.8020</td>\n",
       "    </tr>\n",
       "    <tr>\n",
       "      <th>64925</th>\n",
       "      <td>360.2</td>\n",
       "      <td>358.4</td>\n",
       "      <td>1.6</td>\n",
       "      <td>430.6</td>\n",
       "      <td>27.36</td>\n",
       "      <td>65.70</td>\n",
       "      <td>1003.0</td>\n",
       "      <td>0.8096</td>\n",
       "    </tr>\n",
       "    <tr>\n",
       "      <th>64926</th>\n",
       "      <td>415.2</td>\n",
       "      <td>399.6</td>\n",
       "      <td>19.6</td>\n",
       "      <td>430.8</td>\n",
       "      <td>27.40</td>\n",
       "      <td>65.86</td>\n",
       "      <td>1003.0</td>\n",
       "      <td>0.7588</td>\n",
       "    </tr>\n",
       "    <tr>\n",
       "      <th>64927</th>\n",
       "      <td>485.6</td>\n",
       "      <td>459.6</td>\n",
       "      <td>33.0</td>\n",
       "      <td>430.0</td>\n",
       "      <td>27.54</td>\n",
       "      <td>65.04</td>\n",
       "      <td>1003.0</td>\n",
       "      <td>0.7832</td>\n",
       "    </tr>\n",
       "  </tbody>\n",
       "</table>\n",
       "<p>64928 rows × 8 columns</p>\n",
       "</div>"
      ],
      "text/plain": [
       "          GSW  SWDif  SWDir   LWdn      T      H       P      CF\n",
       "0      1101.2  257.0  929.6  369.2  25.08  51.08  1010.0  0.4502\n",
       "1      1004.8  385.8  683.2  378.8  24.62  53.58  1010.0  0.5632\n",
       "2       942.0  479.8  509.2  388.8  24.52  55.04  1010.0  0.6224\n",
       "3       432.2  410.8   21.4  388.8  23.76  56.80  1010.0  0.5408\n",
       "4       823.4  370.2  490.4  374.4  24.02  55.60  1010.0  0.3544\n",
       "...       ...    ...    ...    ...    ...    ...     ...     ...\n",
       "64923   357.2  355.6    2.6  425.8  27.34  65.78  1003.0  0.7756\n",
       "64924   352.8  352.0    0.6  428.6  27.38  65.62  1003.0  0.8020\n",
       "64925   360.2  358.4    1.6  430.6  27.36  65.70  1003.0  0.8096\n",
       "64926   415.2  399.6   19.6  430.8  27.40  65.86  1003.0  0.7588\n",
       "64927   485.6  459.6   33.0  430.0  27.54  65.04  1003.0  0.7832\n",
       "\n",
       "[64928 rows x 8 columns]"
      ]
     },
     "execution_count": 15,
     "metadata": {},
     "output_type": "execute_result"
    }
   ],
   "source": [
    "data = pd.read_csv(path + 'DataForML_5min.csv', header=0)\n",
    "del data['timestamp']\n",
    "data"
   ]
  },
  {
   "cell_type": "markdown",
   "metadata": {
    "tags": []
   },
   "source": [
    "## Step 3 - Preparing the data\n",
    "### 3.1 - Split data\n",
    "We will use 90% of the data for training and 10% for validation.  \n",
    "The dataset is **shuffled** and shared between **learning** and **testing**.  \n",
    "x will be input data and y the expected output"
   ]
  },
  {
   "cell_type": "code",
   "execution_count": 6,
   "metadata": {},
   "outputs": [
    {
     "data": {
      "text/html": [
       "<div>\n",
       "<style scoped>\n",
       "    .dataframe tbody tr th:only-of-type {\n",
       "        vertical-align: middle;\n",
       "    }\n",
       "\n",
       "    .dataframe tbody tr th {\n",
       "        vertical-align: top;\n",
       "    }\n",
       "\n",
       "    .dataframe thead th {\n",
       "        text-align: right;\n",
       "    }\n",
       "</style>\n",
       "<table border=\"1\" class=\"dataframe\">\n",
       "  <thead>\n",
       "    <tr style=\"text-align: right;\">\n",
       "      <th></th>\n",
       "      <th>GSW</th>\n",
       "      <th>SWDif</th>\n",
       "      <th>SWDir</th>\n",
       "      <th>LWdn</th>\n",
       "      <th>T</th>\n",
       "      <th>H</th>\n",
       "      <th>P</th>\n",
       "      <th>CF</th>\n",
       "    </tr>\n",
       "  </thead>\n",
       "  <tbody>\n",
       "    <tr>\n",
       "      <th>0</th>\n",
       "      <td>356.4</td>\n",
       "      <td>54.4</td>\n",
       "      <td>785.4</td>\n",
       "      <td>373.8</td>\n",
       "      <td>27.44</td>\n",
       "      <td>48.26</td>\n",
       "      <td>1005.0</td>\n",
       "      <td>0.0756</td>\n",
       "    </tr>\n",
       "    <tr>\n",
       "      <th>1</th>\n",
       "      <td>376.4</td>\n",
       "      <td>55.8</td>\n",
       "      <td>797.6</td>\n",
       "      <td>373.8</td>\n",
       "      <td>27.48</td>\n",
       "      <td>48.32</td>\n",
       "      <td>1005.0</td>\n",
       "      <td>0.1180</td>\n",
       "    </tr>\n",
       "    <tr>\n",
       "      <th>2</th>\n",
       "      <td>396.2</td>\n",
       "      <td>57.4</td>\n",
       "      <td>808.4</td>\n",
       "      <td>374.2</td>\n",
       "      <td>27.54</td>\n",
       "      <td>48.04</td>\n",
       "      <td>1005.0</td>\n",
       "      <td>0.1242</td>\n",
       "    </tr>\n",
       "    <tr>\n",
       "      <th>3</th>\n",
       "      <td>416.2</td>\n",
       "      <td>58.8</td>\n",
       "      <td>818.2</td>\n",
       "      <td>374.2</td>\n",
       "      <td>27.76</td>\n",
       "      <td>47.48</td>\n",
       "      <td>1005.0</td>\n",
       "      <td>0.1292</td>\n",
       "    </tr>\n",
       "    <tr>\n",
       "      <th>4</th>\n",
       "      <td>435.2</td>\n",
       "      <td>60.4</td>\n",
       "      <td>825.4</td>\n",
       "      <td>374.4</td>\n",
       "      <td>27.42</td>\n",
       "      <td>48.14</td>\n",
       "      <td>1005.0</td>\n",
       "      <td>0.1342</td>\n",
       "    </tr>\n",
       "    <tr>\n",
       "      <th>...</th>\n",
       "      <td>...</td>\n",
       "      <td>...</td>\n",
       "      <td>...</td>\n",
       "      <td>...</td>\n",
       "      <td>...</td>\n",
       "      <td>...</td>\n",
       "      <td>...</td>\n",
       "      <td>...</td>\n",
       "    </tr>\n",
       "    <tr>\n",
       "      <th>9995</th>\n",
       "      <td>357.2</td>\n",
       "      <td>355.6</td>\n",
       "      <td>2.6</td>\n",
       "      <td>425.8</td>\n",
       "      <td>27.34</td>\n",
       "      <td>65.78</td>\n",
       "      <td>1003.0</td>\n",
       "      <td>0.7756</td>\n",
       "    </tr>\n",
       "    <tr>\n",
       "      <th>9996</th>\n",
       "      <td>352.8</td>\n",
       "      <td>352.0</td>\n",
       "      <td>0.6</td>\n",
       "      <td>428.6</td>\n",
       "      <td>27.38</td>\n",
       "      <td>65.62</td>\n",
       "      <td>1003.0</td>\n",
       "      <td>0.8020</td>\n",
       "    </tr>\n",
       "    <tr>\n",
       "      <th>9997</th>\n",
       "      <td>360.2</td>\n",
       "      <td>358.4</td>\n",
       "      <td>1.6</td>\n",
       "      <td>430.6</td>\n",
       "      <td>27.36</td>\n",
       "      <td>65.70</td>\n",
       "      <td>1003.0</td>\n",
       "      <td>0.8096</td>\n",
       "    </tr>\n",
       "    <tr>\n",
       "      <th>9998</th>\n",
       "      <td>415.2</td>\n",
       "      <td>399.6</td>\n",
       "      <td>19.6</td>\n",
       "      <td>430.8</td>\n",
       "      <td>27.40</td>\n",
       "      <td>65.86</td>\n",
       "      <td>1003.0</td>\n",
       "      <td>0.7588</td>\n",
       "    </tr>\n",
       "    <tr>\n",
       "      <th>9999</th>\n",
       "      <td>485.6</td>\n",
       "      <td>459.6</td>\n",
       "      <td>33.0</td>\n",
       "      <td>430.0</td>\n",
       "      <td>27.54</td>\n",
       "      <td>65.04</td>\n",
       "      <td>1003.0</td>\n",
       "      <td>0.7832</td>\n",
       "    </tr>\n",
       "  </tbody>\n",
       "</table>\n",
       "<p>10000 rows × 8 columns</p>\n",
       "</div>"
      ],
      "text/plain": [
       "        GSW  SWDif  SWDir   LWdn      T      H       P      CF\n",
       "0     356.4   54.4  785.4  373.8  27.44  48.26  1005.0  0.0756\n",
       "1     376.4   55.8  797.6  373.8  27.48  48.32  1005.0  0.1180\n",
       "2     396.2   57.4  808.4  374.2  27.54  48.04  1005.0  0.1242\n",
       "3     416.2   58.8  818.2  374.2  27.76  47.48  1005.0  0.1292\n",
       "4     435.2   60.4  825.4  374.4  27.42  48.14  1005.0  0.1342\n",
       "...     ...    ...    ...    ...    ...    ...     ...     ...\n",
       "9995  357.2  355.6    2.6  425.8  27.34  65.78  1003.0  0.7756\n",
       "9996  352.8  352.0    0.6  428.6  27.38  65.62  1003.0  0.8020\n",
       "9997  360.2  358.4    1.6  430.6  27.36  65.70  1003.0  0.8096\n",
       "9998  415.2  399.6   19.6  430.8  27.40  65.86  1003.0  0.7588\n",
       "9999  485.6  459.6   33.0  430.0  27.54  65.04  1003.0  0.7832\n",
       "\n",
       "[10000 rows x 8 columns]"
      ]
     },
     "execution_count": 6,
     "metadata": {},
     "output_type": "execute_result"
    }
   ],
   "source": [
    "data_pred       = data[-10000:]\n",
    "\n",
    "y_real          = data_pred['CF']\n",
    "x_pred          = data_pred.drop('CF',  axis=1)\n",
    "\n",
    "data_pred = data_pred.reset_index()\n",
    "\n",
    "data_pred = data_pred.drop('index', axis=1)\n",
    "data_pred"
   ]
  },
  {
   "cell_type": "code",
   "execution_count": 8,
   "metadata": {},
   "outputs": [
    {
     "name": "stdout",
     "output_type": "stream",
     "text": [
      "Original data shape was :  (54928, 8)\n",
      "x_train :  (52182, 7) y_train :  (52182,)\n",
      "x_test  :  (2746, 7) y_test  :  (2746,)\n",
      "x_pred  :  (10000, 7) y_real  :  (10000,)\n"
     ]
    }
   ],
   "source": [
    "# ---- Shuffle and Split => train, test\n",
    "#\n",
    "data       = data.drop(data_pred.index)\n",
    "data       = data.sample(frac=1., axis=0)\n",
    "data_train = data.sample(frac=0.95, axis=0)\n",
    "data_test  = data.drop(data_train.index)\n",
    "\n",
    "# ---- Split => x,y (medv is price)\n",
    "#\n",
    "x_train = data_train.drop('CF',  axis=1)\n",
    "y_train = data_train['CF']\n",
    "x_test  = data_test.drop('CF',   axis=1)\n",
    "y_test  = data_test['CF']\n",
    "\n",
    "print('Original data shape was : ',data.shape)\n",
    "print('x_train : ',x_train.shape, 'y_train : ',y_train.shape)\n",
    "print('x_test  : ',x_test.shape,  'y_test  : ',y_test.shape)\n",
    "print('x_pred  : ',x_pred.shape,  'y_real  : ',y_real.shape)"
   ]
  },
  {
   "cell_type": "code",
   "execution_count": 9,
   "metadata": {},
   "outputs": [
    {
     "data": {
      "text/plain": [
       "((52182, 7), (2746, 7))"
      ]
     },
     "execution_count": 9,
     "metadata": {},
     "output_type": "execute_result"
    }
   ],
   "source": [
    "x_train.shape, x_test.shape"
   ]
  },
  {
   "cell_type": "markdown",
   "metadata": {
    "tags": []
   },
   "source": [
    "### 3.2 - Data normalization\n",
    "**Note :** \n",
    " - All input data must be normalized, train and test.  \n",
    " - To do this we will **subtract the mean** and **divide by the standard deviation**.  \n",
    " - But test data should not be used in any way, even for normalization.  \n",
    " - The mean and the standard deviation will therefore only be calculated with the train data."
   ]
  },
  {
   "cell_type": "code",
   "execution_count": 10,
   "metadata": {},
   "outputs": [
    {
     "data": {
      "text/html": [
       "<style type=\"text/css\">\n",
       "</style>\n",
       "<table id=\"T_3db65_\">\n",
       "  <caption>Before normalization :</caption>\n",
       "  <thead>\n",
       "    <tr>\n",
       "      <th class=\"blank level0\" >&nbsp;</th>\n",
       "      <th class=\"col_heading level0 col0\" >GSW</th>\n",
       "      <th class=\"col_heading level0 col1\" >SWDif</th>\n",
       "      <th class=\"col_heading level0 col2\" >SWDir</th>\n",
       "      <th class=\"col_heading level0 col3\" >LWdn</th>\n",
       "      <th class=\"col_heading level0 col4\" >T</th>\n",
       "      <th class=\"col_heading level0 col5\" >H</th>\n",
       "      <th class=\"col_heading level0 col6\" >P</th>\n",
       "    </tr>\n",
       "  </thead>\n",
       "  <tbody>\n",
       "    <tr>\n",
       "      <th id=\"T_3db65_level0_row0\" class=\"row_heading level0 row0\" >count</th>\n",
       "      <td id=\"T_3db65_row0_col0\" class=\"data row0 col0\" >52182.00</td>\n",
       "      <td id=\"T_3db65_row0_col1\" class=\"data row0 col1\" >52182.00</td>\n",
       "      <td id=\"T_3db65_row0_col2\" class=\"data row0 col2\" >52182.00</td>\n",
       "      <td id=\"T_3db65_row0_col3\" class=\"data row0 col3\" >52182.00</td>\n",
       "      <td id=\"T_3db65_row0_col4\" class=\"data row0 col4\" >52182.00</td>\n",
       "      <td id=\"T_3db65_row0_col5\" class=\"data row0 col5\" >52182.00</td>\n",
       "      <td id=\"T_3db65_row0_col6\" class=\"data row0 col6\" >52182.00</td>\n",
       "    </tr>\n",
       "    <tr>\n",
       "      <th id=\"T_3db65_level0_row1\" class=\"row_heading level0 row1\" >mean</th>\n",
       "      <td id=\"T_3db65_row1_col0\" class=\"data row1 col0\" >468.84</td>\n",
       "      <td id=\"T_3db65_row1_col1\" class=\"data row1 col1\" >190.80</td>\n",
       "      <td id=\"T_3db65_row1_col2\" class=\"data row1 col2\" >400.23</td>\n",
       "      <td id=\"T_3db65_row1_col3\" class=\"data row1 col3\" >398.56</td>\n",
       "      <td id=\"T_3db65_row1_col4\" class=\"data row1 col4\" >26.50</td>\n",
       "      <td id=\"T_3db65_row1_col5\" class=\"data row1 col5\" >61.28</td>\n",
       "      <td id=\"T_3db65_row1_col6\" class=\"data row1 col6\" >1003.83</td>\n",
       "    </tr>\n",
       "    <tr>\n",
       "      <th id=\"T_3db65_level0_row2\" class=\"row_heading level0 row2\" >std</th>\n",
       "      <td id=\"T_3db65_row2_col0\" class=\"data row2 col0\" >327.69</td>\n",
       "      <td id=\"T_3db65_row2_col1\" class=\"data row2 col1\" >143.66</td>\n",
       "      <td id=\"T_3db65_row2_col2\" class=\"data row2 col2\" >386.34</td>\n",
       "      <td id=\"T_3db65_row2_col3\" class=\"data row2 col3\" >29.17</td>\n",
       "      <td id=\"T_3db65_row2_col4\" class=\"data row2 col4\" >2.52</td>\n",
       "      <td id=\"T_3db65_row2_col5\" class=\"data row2 col5\" >9.64</td>\n",
       "      <td id=\"T_3db65_row2_col6\" class=\"data row2 col6\" >4.07</td>\n",
       "    </tr>\n",
       "    <tr>\n",
       "      <th id=\"T_3db65_level0_row3\" class=\"row_heading level0 row3\" >min</th>\n",
       "      <td id=\"T_3db65_row3_col0\" class=\"data row3 col0\" >10.00</td>\n",
       "      <td id=\"T_3db65_row3_col1\" class=\"data row3 col1\" >9.00</td>\n",
       "      <td id=\"T_3db65_row3_col2\" class=\"data row3 col2\" >-1.00</td>\n",
       "      <td id=\"T_3db65_row3_col3\" class=\"data row3 col3\" >308.60</td>\n",
       "      <td id=\"T_3db65_row3_col4\" class=\"data row3 col4\" >16.90</td>\n",
       "      <td id=\"T_3db65_row3_col5\" class=\"data row3 col5\" >27.16</td>\n",
       "      <td id=\"T_3db65_row3_col6\" class=\"data row3 col6\" >929.80</td>\n",
       "    </tr>\n",
       "    <tr>\n",
       "      <th id=\"T_3db65_level0_row4\" class=\"row_heading level0 row4\" >25%</th>\n",
       "      <td id=\"T_3db65_row4_col0\" class=\"data row4 col0\" >177.00</td>\n",
       "      <td id=\"T_3db65_row4_col1\" class=\"data row4 col1\" >80.40</td>\n",
       "      <td id=\"T_3db65_row4_col2\" class=\"data row4 col2\" >0.80</td>\n",
       "      <td id=\"T_3db65_row4_col3\" class=\"data row4 col3\" >378.00</td>\n",
       "      <td id=\"T_3db65_row4_col4\" class=\"data row4 col4\" >24.70</td>\n",
       "      <td id=\"T_3db65_row4_col5\" class=\"data row4 col5\" >54.68</td>\n",
       "      <td id=\"T_3db65_row4_col6\" class=\"data row4 col6\" >1001.00</td>\n",
       "    </tr>\n",
       "    <tr>\n",
       "      <th id=\"T_3db65_level0_row5\" class=\"row_heading level0 row5\" >50%</th>\n",
       "      <td id=\"T_3db65_row5_col0\" class=\"data row5 col0\" >408.60</td>\n",
       "      <td id=\"T_3db65_row5_col1\" class=\"data row5 col1\" >139.20</td>\n",
       "      <td id=\"T_3db65_row5_col2\" class=\"data row5 col2\" >309.10</td>\n",
       "      <td id=\"T_3db65_row5_col3\" class=\"data row5 col3\" >401.80</td>\n",
       "      <td id=\"T_3db65_row5_col4\" class=\"data row5 col4\" >26.68</td>\n",
       "      <td id=\"T_3db65_row5_col5\" class=\"data row5 col5\" >60.58</td>\n",
       "      <td id=\"T_3db65_row5_col6\" class=\"data row5 col6\" >1004.00</td>\n",
       "    </tr>\n",
       "    <tr>\n",
       "      <th id=\"T_3db65_level0_row6\" class=\"row_heading level0 row6\" >75%</th>\n",
       "      <td id=\"T_3db65_row6_col0\" class=\"data row6 col0\" >733.60</td>\n",
       "      <td id=\"T_3db65_row6_col1\" class=\"data row6 col1\" >274.60</td>\n",
       "      <td id=\"T_3db65_row6_col2\" class=\"data row6 col2\" >815.60</td>\n",
       "      <td id=\"T_3db65_row6_col3\" class=\"data row6 col3\" >422.40</td>\n",
       "      <td id=\"T_3db65_row6_col4\" class=\"data row6 col4\" >28.48</td>\n",
       "      <td id=\"T_3db65_row6_col5\" class=\"data row6 col5\" >66.82</td>\n",
       "      <td id=\"T_3db65_row6_col6\" class=\"data row6 col6\" >1007.00</td>\n",
       "    </tr>\n",
       "    <tr>\n",
       "      <th id=\"T_3db65_level0_row7\" class=\"row_heading level0 row7\" >max</th>\n",
       "      <td id=\"T_3db65_row7_col0\" class=\"data row7 col0\" >1485.00</td>\n",
       "      <td id=\"T_3db65_row7_col1\" class=\"data row7 col1\" >774.20</td>\n",
       "      <td id=\"T_3db65_row7_col2\" class=\"data row7 col2\" >1028.60</td>\n",
       "      <td id=\"T_3db65_row7_col3\" class=\"data row7 col3\" >461.40</td>\n",
       "      <td id=\"T_3db65_row7_col4\" class=\"data row7 col4\" >34.22</td>\n",
       "      <td id=\"T_3db65_row7_col5\" class=\"data row7 col5\" >93.82</td>\n",
       "      <td id=\"T_3db65_row7_col6\" class=\"data row7 col6\" >1014.00</td>\n",
       "    </tr>\n",
       "  </tbody>\n",
       "</table>\n"
      ],
      "text/plain": [
       "<pandas.io.formats.style.Styler at 0x2f029199af0>"
      ]
     },
     "metadata": {},
     "output_type": "display_data"
    },
    {
     "data": {
      "text/html": [
       "<style type=\"text/css\">\n",
       "</style>\n",
       "<table id=\"T_6a362_\">\n",
       "  <caption>After normalization :</caption>\n",
       "  <thead>\n",
       "    <tr>\n",
       "      <th class=\"blank level0\" >&nbsp;</th>\n",
       "      <th class=\"col_heading level0 col0\" >GSW</th>\n",
       "      <th class=\"col_heading level0 col1\" >SWDif</th>\n",
       "      <th class=\"col_heading level0 col2\" >SWDir</th>\n",
       "      <th class=\"col_heading level0 col3\" >LWdn</th>\n",
       "      <th class=\"col_heading level0 col4\" >T</th>\n",
       "      <th class=\"col_heading level0 col5\" >H</th>\n",
       "      <th class=\"col_heading level0 col6\" >P</th>\n",
       "    </tr>\n",
       "  </thead>\n",
       "  <tbody>\n",
       "    <tr>\n",
       "      <th id=\"T_6a362_level0_row0\" class=\"row_heading level0 row0\" >count</th>\n",
       "      <td id=\"T_6a362_row0_col0\" class=\"data row0 col0\" >52182.00</td>\n",
       "      <td id=\"T_6a362_row0_col1\" class=\"data row0 col1\" >52182.00</td>\n",
       "      <td id=\"T_6a362_row0_col2\" class=\"data row0 col2\" >52182.00</td>\n",
       "      <td id=\"T_6a362_row0_col3\" class=\"data row0 col3\" >52182.00</td>\n",
       "      <td id=\"T_6a362_row0_col4\" class=\"data row0 col4\" >52182.00</td>\n",
       "      <td id=\"T_6a362_row0_col5\" class=\"data row0 col5\" >52182.00</td>\n",
       "      <td id=\"T_6a362_row0_col6\" class=\"data row0 col6\" >52182.00</td>\n",
       "    </tr>\n",
       "    <tr>\n",
       "      <th id=\"T_6a362_level0_row1\" class=\"row_heading level0 row1\" >mean</th>\n",
       "      <td id=\"T_6a362_row1_col0\" class=\"data row1 col0\" >-0.00</td>\n",
       "      <td id=\"T_6a362_row1_col1\" class=\"data row1 col1\" >0.00</td>\n",
       "      <td id=\"T_6a362_row1_col2\" class=\"data row1 col2\" >0.00</td>\n",
       "      <td id=\"T_6a362_row1_col3\" class=\"data row1 col3\" >0.00</td>\n",
       "      <td id=\"T_6a362_row1_col4\" class=\"data row1 col4\" >0.00</td>\n",
       "      <td id=\"T_6a362_row1_col5\" class=\"data row1 col5\" >-0.00</td>\n",
       "      <td id=\"T_6a362_row1_col6\" class=\"data row1 col6\" >0.00</td>\n",
       "    </tr>\n",
       "    <tr>\n",
       "      <th id=\"T_6a362_level0_row2\" class=\"row_heading level0 row2\" >std</th>\n",
       "      <td id=\"T_6a362_row2_col0\" class=\"data row2 col0\" >1.00</td>\n",
       "      <td id=\"T_6a362_row2_col1\" class=\"data row2 col1\" >1.00</td>\n",
       "      <td id=\"T_6a362_row2_col2\" class=\"data row2 col2\" >1.00</td>\n",
       "      <td id=\"T_6a362_row2_col3\" class=\"data row2 col3\" >1.00</td>\n",
       "      <td id=\"T_6a362_row2_col4\" class=\"data row2 col4\" >1.00</td>\n",
       "      <td id=\"T_6a362_row2_col5\" class=\"data row2 col5\" >1.00</td>\n",
       "      <td id=\"T_6a362_row2_col6\" class=\"data row2 col6\" >1.00</td>\n",
       "    </tr>\n",
       "    <tr>\n",
       "      <th id=\"T_6a362_level0_row3\" class=\"row_heading level0 row3\" >min</th>\n",
       "      <td id=\"T_6a362_row3_col0\" class=\"data row3 col0\" >-1.40</td>\n",
       "      <td id=\"T_6a362_row3_col1\" class=\"data row3 col1\" >-1.27</td>\n",
       "      <td id=\"T_6a362_row3_col2\" class=\"data row3 col2\" >-1.04</td>\n",
       "      <td id=\"T_6a362_row3_col3\" class=\"data row3 col3\" >-3.08</td>\n",
       "      <td id=\"T_6a362_row3_col4\" class=\"data row3 col4\" >-3.80</td>\n",
       "      <td id=\"T_6a362_row3_col5\" class=\"data row3 col5\" >-3.54</td>\n",
       "      <td id=\"T_6a362_row3_col6\" class=\"data row3 col6\" >-18.18</td>\n",
       "    </tr>\n",
       "    <tr>\n",
       "      <th id=\"T_6a362_level0_row4\" class=\"row_heading level0 row4\" >25%</th>\n",
       "      <td id=\"T_6a362_row4_col0\" class=\"data row4 col0\" >-0.89</td>\n",
       "      <td id=\"T_6a362_row4_col1\" class=\"data row4 col1\" >-0.77</td>\n",
       "      <td id=\"T_6a362_row4_col2\" class=\"data row4 col2\" >-1.03</td>\n",
       "      <td id=\"T_6a362_row4_col3\" class=\"data row4 col3\" >-0.70</td>\n",
       "      <td id=\"T_6a362_row4_col4\" class=\"data row4 col4\" >-0.71</td>\n",
       "      <td id=\"T_6a362_row4_col5\" class=\"data row4 col5\" >-0.68</td>\n",
       "      <td id=\"T_6a362_row4_col6\" class=\"data row4 col6\" >-0.69</td>\n",
       "    </tr>\n",
       "    <tr>\n",
       "      <th id=\"T_6a362_level0_row5\" class=\"row_heading level0 row5\" >50%</th>\n",
       "      <td id=\"T_6a362_row5_col0\" class=\"data row5 col0\" >-0.18</td>\n",
       "      <td id=\"T_6a362_row5_col1\" class=\"data row5 col1\" >-0.36</td>\n",
       "      <td id=\"T_6a362_row5_col2\" class=\"data row5 col2\" >-0.24</td>\n",
       "      <td id=\"T_6a362_row5_col3\" class=\"data row5 col3\" >0.11</td>\n",
       "      <td id=\"T_6a362_row5_col4\" class=\"data row5 col4\" >0.07</td>\n",
       "      <td id=\"T_6a362_row5_col5\" class=\"data row5 col5\" >-0.07</td>\n",
       "      <td id=\"T_6a362_row5_col6\" class=\"data row5 col6\" >0.04</td>\n",
       "    </tr>\n",
       "    <tr>\n",
       "      <th id=\"T_6a362_level0_row6\" class=\"row_heading level0 row6\" >75%</th>\n",
       "      <td id=\"T_6a362_row6_col0\" class=\"data row6 col0\" >0.81</td>\n",
       "      <td id=\"T_6a362_row6_col1\" class=\"data row6 col1\" >0.58</td>\n",
       "      <td id=\"T_6a362_row6_col2\" class=\"data row6 col2\" >1.08</td>\n",
       "      <td id=\"T_6a362_row6_col3\" class=\"data row6 col3\" >0.82</td>\n",
       "      <td id=\"T_6a362_row6_col4\" class=\"data row6 col4\" >0.78</td>\n",
       "      <td id=\"T_6a362_row6_col5\" class=\"data row6 col5\" >0.57</td>\n",
       "      <td id=\"T_6a362_row6_col6\" class=\"data row6 col6\" >0.78</td>\n",
       "    </tr>\n",
       "    <tr>\n",
       "      <th id=\"T_6a362_level0_row7\" class=\"row_heading level0 row7\" >max</th>\n",
       "      <td id=\"T_6a362_row7_col0\" class=\"data row7 col0\" >3.10</td>\n",
       "      <td id=\"T_6a362_row7_col1\" class=\"data row7 col1\" >4.06</td>\n",
       "      <td id=\"T_6a362_row7_col2\" class=\"data row7 col2\" >1.63</td>\n",
       "      <td id=\"T_6a362_row7_col3\" class=\"data row7 col3\" >2.15</td>\n",
       "      <td id=\"T_6a362_row7_col4\" class=\"data row7 col4\" >3.06</td>\n",
       "      <td id=\"T_6a362_row7_col5\" class=\"data row7 col5\" >3.37</td>\n",
       "      <td id=\"T_6a362_row7_col6\" class=\"data row7 col6\" >2.50</td>\n",
       "    </tr>\n",
       "  </tbody>\n",
       "</table>\n"
      ],
      "text/plain": [
       "<pandas.io.formats.style.Styler at 0x2f02917b4f0>"
      ]
     },
     "metadata": {},
     "output_type": "display_data"
    },
    {
     "data": {
      "text/html": [
       "<style type=\"text/css\">\n",
       "</style>\n",
       "<table id=\"T_edee0_\">\n",
       "  <caption>Few lines of the dataset :</caption>\n",
       "  <thead>\n",
       "    <tr>\n",
       "      <th class=\"blank level0\" >&nbsp;</th>\n",
       "      <th class=\"col_heading level0 col0\" >GSW</th>\n",
       "      <th class=\"col_heading level0 col1\" >SWDif</th>\n",
       "      <th class=\"col_heading level0 col2\" >SWDir</th>\n",
       "      <th class=\"col_heading level0 col3\" >LWdn</th>\n",
       "      <th class=\"col_heading level0 col4\" >T</th>\n",
       "      <th class=\"col_heading level0 col5\" >H</th>\n",
       "      <th class=\"col_heading level0 col6\" >P</th>\n",
       "    </tr>\n",
       "  </thead>\n",
       "  <tbody>\n",
       "    <tr>\n",
       "      <th id=\"T_edee0_level0_row0\" class=\"row_heading level0 row0\" >45803</th>\n",
       "      <td id=\"T_edee0_row0_col0\" class=\"data row0 col0\" >0.09</td>\n",
       "      <td id=\"T_edee0_row0_col1\" class=\"data row0 col1\" >1.82</td>\n",
       "      <td id=\"T_edee0_row0_col2\" class=\"data row0 col2\" >-0.93</td>\n",
       "      <td id=\"T_edee0_row0_col3\" class=\"data row0 col3\" >0.82</td>\n",
       "      <td id=\"T_edee0_row0_col4\" class=\"data row0 col4\" >-0.09</td>\n",
       "      <td id=\"T_edee0_row0_col5\" class=\"data row0 col5\" >0.02</td>\n",
       "      <td id=\"T_edee0_row0_col6\" class=\"data row0 col6\" >0.53</td>\n",
       "    </tr>\n",
       "    <tr>\n",
       "      <th id=\"T_edee0_level0_row1\" class=\"row_heading level0 row1\" >44583</th>\n",
       "      <td id=\"T_edee0_row1_col0\" class=\"data row1 col0\" >1.45</td>\n",
       "      <td id=\"T_edee0_row1_col1\" class=\"data row1 col1\" >-0.64</td>\n",
       "      <td id=\"T_edee0_row1_col2\" class=\"data row1 col2\" >1.45</td>\n",
       "      <td id=\"T_edee0_row1_col3\" class=\"data row1 col3\" >-1.93</td>\n",
       "      <td id=\"T_edee0_row1_col4\" class=\"data row1 col4\" >-0.09</td>\n",
       "      <td id=\"T_edee0_row1_col5\" class=\"data row1 col5\" >-2.90</td>\n",
       "      <td id=\"T_edee0_row1_col6\" class=\"data row1 col6\" >1.27</td>\n",
       "    </tr>\n",
       "    <tr>\n",
       "      <th id=\"T_edee0_level0_row2\" class=\"row_heading level0 row2\" >54196</th>\n",
       "      <td id=\"T_edee0_row2_col0\" class=\"data row2 col0\" >-1.26</td>\n",
       "      <td id=\"T_edee0_row2_col1\" class=\"data row2 col1\" >-0.93</td>\n",
       "      <td id=\"T_edee0_row2_col2\" class=\"data row2 col2\" >-1.04</td>\n",
       "      <td id=\"T_edee0_row2_col3\" class=\"data row2 col3\" >0.08</td>\n",
       "      <td id=\"T_edee0_row2_col4\" class=\"data row2 col4\" >-0.13</td>\n",
       "      <td id=\"T_edee0_row2_col5\" class=\"data row2 col5\" >1.28</td>\n",
       "      <td id=\"T_edee0_row2_col6\" class=\"data row2 col6\" >-0.25</td>\n",
       "    </tr>\n",
       "    <tr>\n",
       "      <th id=\"T_edee0_level0_row3\" class=\"row_heading level0 row3\" >55312</th>\n",
       "      <td id=\"T_edee0_row3_col0\" class=\"data row3 col0\" >-0.58</td>\n",
       "      <td id=\"T_edee0_row3_col1\" class=\"data row3 col1\" >-0.96</td>\n",
       "      <td id=\"T_edee0_row3_col2\" class=\"data row3 col2\" >0.84</td>\n",
       "      <td id=\"T_edee0_row3_col3\" class=\"data row3 col3\" >-0.94</td>\n",
       "      <td id=\"T_edee0_row3_col4\" class=\"data row3 col4\" >-0.45</td>\n",
       "      <td id=\"T_edee0_row3_col5\" class=\"data row3 col5\" >0.65</td>\n",
       "      <td id=\"T_edee0_row3_col6\" class=\"data row3 col6\" >0.04</td>\n",
       "    </tr>\n",
       "    <tr>\n",
       "      <th id=\"T_edee0_level0_row4\" class=\"row_heading level0 row4\" >22952</th>\n",
       "      <td id=\"T_edee0_row4_col0\" class=\"data row4 col0\" >-1.27</td>\n",
       "      <td id=\"T_edee0_row4_col1\" class=\"data row4 col1\" >-0.97</td>\n",
       "      <td id=\"T_edee0_row4_col2\" class=\"data row4 col2\" >-1.04</td>\n",
       "      <td id=\"T_edee0_row4_col3\" class=\"data row4 col3\" >0.67</td>\n",
       "      <td id=\"T_edee0_row4_col4\" class=\"data row4 col4\" >-0.03</td>\n",
       "      <td id=\"T_edee0_row4_col5\" class=\"data row4 col5\" >0.92</td>\n",
       "      <td id=\"T_edee0_row4_col6\" class=\"data row4 col6\" >-1.43</td>\n",
       "    </tr>\n",
       "  </tbody>\n",
       "</table>\n"
      ],
      "text/plain": [
       "<pandas.io.formats.style.Styler at 0x2f0117c89d0>"
      ]
     },
     "metadata": {},
     "output_type": "display_data"
    }
   ],
   "source": [
    "display(x_train.describe().style.format(\"{0:.2f}\").set_caption(\"Before normalization :\"))\n",
    "\n",
    "mean = x_train.mean()\n",
    "std  = x_train.std()\n",
    "x_train = (x_train - mean) / std\n",
    "x_test  = (x_test  - mean) / std\n",
    "\n",
    "display(x_train.describe().style.format(\"{0:.2f}\").set_caption(\"After normalization :\"))\n",
    "display(x_train.head(5).style.format(\"{0:.2f}\").set_caption(\"Few lines of the dataset :\"))\n",
    "\n",
    "x_train, y_train = np.array(x_train), np.array(y_train)\n",
    "x_test,  y_test  = np.array(x_test),  np.array(y_test)\n"
   ]
  },
  {
   "cell_type": "code",
   "execution_count": 11,
   "metadata": {},
   "outputs": [
    {
     "data": {
      "text/html": [
       "<style type=\"text/css\">\n",
       "</style>\n",
       "<table id=\"T_5ac6d_\">\n",
       "  <caption>Before normalization :</caption>\n",
       "  <thead>\n",
       "    <tr>\n",
       "      <th class=\"blank level0\" >&nbsp;</th>\n",
       "      <th class=\"col_heading level0 col0\" >GSW</th>\n",
       "      <th class=\"col_heading level0 col1\" >SWDif</th>\n",
       "      <th class=\"col_heading level0 col2\" >SWDir</th>\n",
       "      <th class=\"col_heading level0 col3\" >LWdn</th>\n",
       "      <th class=\"col_heading level0 col4\" >T</th>\n",
       "      <th class=\"col_heading level0 col5\" >H</th>\n",
       "      <th class=\"col_heading level0 col6\" >P</th>\n",
       "    </tr>\n",
       "  </thead>\n",
       "  <tbody>\n",
       "    <tr>\n",
       "      <th id=\"T_5ac6d_level0_row0\" class=\"row_heading level0 row0\" >count</th>\n",
       "      <td id=\"T_5ac6d_row0_col0\" class=\"data row0 col0\" >10000.00</td>\n",
       "      <td id=\"T_5ac6d_row0_col1\" class=\"data row0 col1\" >10000.00</td>\n",
       "      <td id=\"T_5ac6d_row0_col2\" class=\"data row0 col2\" >10000.00</td>\n",
       "      <td id=\"T_5ac6d_row0_col3\" class=\"data row0 col3\" >10000.00</td>\n",
       "      <td id=\"T_5ac6d_row0_col4\" class=\"data row0 col4\" >10000.00</td>\n",
       "      <td id=\"T_5ac6d_row0_col5\" class=\"data row0 col5\" >10000.00</td>\n",
       "      <td id=\"T_5ac6d_row0_col6\" class=\"data row0 col6\" >10000.00</td>\n",
       "    </tr>\n",
       "    <tr>\n",
       "      <th id=\"T_5ac6d_level0_row1\" class=\"row_heading level0 row1\" >mean</th>\n",
       "      <td id=\"T_5ac6d_row1_col0\" class=\"data row1 col0\" >521.28</td>\n",
       "      <td id=\"T_5ac6d_row1_col1\" class=\"data row1 col1\" >191.02</td>\n",
       "      <td id=\"T_5ac6d_row1_col2\" class=\"data row1 col2\" >437.97</td>\n",
       "      <td id=\"T_5ac6d_row1_col3\" class=\"data row1 col3\" >410.06</td>\n",
       "      <td id=\"T_5ac6d_row1_col4\" class=\"data row1 col4\" >28.20</td>\n",
       "      <td id=\"T_5ac6d_row1_col5\" class=\"data row1 col5\" >63.17</td>\n",
       "      <td id=\"T_5ac6d_row1_col6\" class=\"data row1 col6\" >1001.41</td>\n",
       "    </tr>\n",
       "    <tr>\n",
       "      <th id=\"T_5ac6d_level0_row2\" class=\"row_heading level0 row2\" >std</th>\n",
       "      <td id=\"T_5ac6d_row2_col0\" class=\"data row2 col0\" >360.78</td>\n",
       "      <td id=\"T_5ac6d_row2_col1\" class=\"data row2 col1\" >155.21</td>\n",
       "      <td id=\"T_5ac6d_row2_col2\" class=\"data row2 col2\" >407.09</td>\n",
       "      <td id=\"T_5ac6d_row2_col3\" class=\"data row2 col3\" >22.78</td>\n",
       "      <td id=\"T_5ac6d_row2_col4\" class=\"data row2 col4\" >1.72</td>\n",
       "      <td id=\"T_5ac6d_row2_col5\" class=\"data row2 col5\" >9.93</td>\n",
       "      <td id=\"T_5ac6d_row2_col6\" class=\"data row2 col6\" >1.94</td>\n",
       "    </tr>\n",
       "    <tr>\n",
       "      <th id=\"T_5ac6d_level0_row3\" class=\"row_heading level0 row3\" >min</th>\n",
       "      <td id=\"T_5ac6d_row3_col0\" class=\"data row3 col0\" >10.00</td>\n",
       "      <td id=\"T_5ac6d_row3_col1\" class=\"data row3 col1\" >10.20</td>\n",
       "      <td id=\"T_5ac6d_row3_col2\" class=\"data row3 col2\" >-1.00</td>\n",
       "      <td id=\"T_5ac6d_row3_col3\" class=\"data row3 col3\" >346.20</td>\n",
       "      <td id=\"T_5ac6d_row3_col4\" class=\"data row3 col4\" >22.00</td>\n",
       "      <td id=\"T_5ac6d_row3_col5\" class=\"data row3 col5\" >27.16</td>\n",
       "      <td id=\"T_5ac6d_row3_col6\" class=\"data row3 col6\" >995.00</td>\n",
       "    </tr>\n",
       "    <tr>\n",
       "      <th id=\"T_5ac6d_level0_row4\" class=\"row_heading level0 row4\" >25%</th>\n",
       "      <td id=\"T_5ac6d_row4_col0\" class=\"data row4 col0\" >190.00</td>\n",
       "      <td id=\"T_5ac6d_row4_col1\" class=\"data row4 col1\" >76.60</td>\n",
       "      <td id=\"T_5ac6d_row4_col2\" class=\"data row4 col2\" >1.00</td>\n",
       "      <td id=\"T_5ac6d_row4_col3\" class=\"data row4 col3\" >392.80</td>\n",
       "      <td id=\"T_5ac6d_row4_col4\" class=\"data row4 col4\" >27.08</td>\n",
       "      <td id=\"T_5ac6d_row4_col5\" class=\"data row4 col5\" >55.96</td>\n",
       "      <td id=\"T_5ac6d_row4_col6\" class=\"data row4 col6\" >1000.00</td>\n",
       "    </tr>\n",
       "    <tr>\n",
       "      <th id=\"T_5ac6d_level0_row5\" class=\"row_heading level0 row5\" >50%</th>\n",
       "      <td id=\"T_5ac6d_row5_col0\" class=\"data row5 col0\" >469.30</td>\n",
       "      <td id=\"T_5ac6d_row5_col1\" class=\"data row5 col1\" >122.40</td>\n",
       "      <td id=\"T_5ac6d_row5_col2\" class=\"data row5 col2\" >400.50</td>\n",
       "      <td id=\"T_5ac6d_row5_col3\" class=\"data row5 col3\" >409.80</td>\n",
       "      <td id=\"T_5ac6d_row5_col4\" class=\"data row5 col4\" >28.44</td>\n",
       "      <td id=\"T_5ac6d_row5_col5\" class=\"data row5 col5\" >61.84</td>\n",
       "      <td id=\"T_5ac6d_row5_col6\" class=\"data row5 col6\" >1002.00</td>\n",
       "    </tr>\n",
       "    <tr>\n",
       "      <th id=\"T_5ac6d_level0_row6\" class=\"row_heading level0 row6\" >75%</th>\n",
       "      <td id=\"T_5ac6d_row6_col0\" class=\"data row6 col0\" >843.85</td>\n",
       "      <td id=\"T_5ac6d_row6_col1\" class=\"data row6 col1\" >280.00</td>\n",
       "      <td id=\"T_5ac6d_row6_col2\" class=\"data row6 col2\" >879.00</td>\n",
       "      <td id=\"T_5ac6d_row6_col3\" class=\"data row6 col3\" >430.20</td>\n",
       "      <td id=\"T_5ac6d_row6_col4\" class=\"data row6 col4\" >29.48</td>\n",
       "      <td id=\"T_5ac6d_row6_col5\" class=\"data row6 col5\" >68.94</td>\n",
       "      <td id=\"T_5ac6d_row6_col6\" class=\"data row6 col6\" >1003.00</td>\n",
       "    </tr>\n",
       "    <tr>\n",
       "      <th id=\"T_5ac6d_level0_row7\" class=\"row_heading level0 row7\" >max</th>\n",
       "      <td id=\"T_5ac6d_row7_col0\" class=\"data row7 col0\" >1485.00</td>\n",
       "      <td id=\"T_5ac6d_row7_col1\" class=\"data row7 col1\" >774.20</td>\n",
       "      <td id=\"T_5ac6d_row7_col2\" class=\"data row7 col2\" >1028.60</td>\n",
       "      <td id=\"T_5ac6d_row7_col3\" class=\"data row7 col3\" >457.60</td>\n",
       "      <td id=\"T_5ac6d_row7_col4\" class=\"data row7 col4\" >34.22</td>\n",
       "      <td id=\"T_5ac6d_row7_col5\" class=\"data row7 col5\" >93.82</td>\n",
       "      <td id=\"T_5ac6d_row7_col6\" class=\"data row7 col6\" >1005.00</td>\n",
       "    </tr>\n",
       "  </tbody>\n",
       "</table>\n"
      ],
      "text/plain": [
       "<pandas.io.formats.style.Styler at 0x2f02917b220>"
      ]
     },
     "metadata": {},
     "output_type": "display_data"
    },
    {
     "data": {
      "text/html": [
       "<style type=\"text/css\">\n",
       "</style>\n",
       "<table id=\"T_fbeb1_\">\n",
       "  <caption>After normalization :</caption>\n",
       "  <thead>\n",
       "    <tr>\n",
       "      <th class=\"blank level0\" >&nbsp;</th>\n",
       "      <th class=\"col_heading level0 col0\" >GSW</th>\n",
       "      <th class=\"col_heading level0 col1\" >SWDif</th>\n",
       "      <th class=\"col_heading level0 col2\" >SWDir</th>\n",
       "      <th class=\"col_heading level0 col3\" >LWdn</th>\n",
       "      <th class=\"col_heading level0 col4\" >T</th>\n",
       "      <th class=\"col_heading level0 col5\" >H</th>\n",
       "      <th class=\"col_heading level0 col6\" >P</th>\n",
       "    </tr>\n",
       "  </thead>\n",
       "  <tbody>\n",
       "    <tr>\n",
       "      <th id=\"T_fbeb1_level0_row0\" class=\"row_heading level0 row0\" >count</th>\n",
       "      <td id=\"T_fbeb1_row0_col0\" class=\"data row0 col0\" >10000.00</td>\n",
       "      <td id=\"T_fbeb1_row0_col1\" class=\"data row0 col1\" >10000.00</td>\n",
       "      <td id=\"T_fbeb1_row0_col2\" class=\"data row0 col2\" >10000.00</td>\n",
       "      <td id=\"T_fbeb1_row0_col3\" class=\"data row0 col3\" >10000.00</td>\n",
       "      <td id=\"T_fbeb1_row0_col4\" class=\"data row0 col4\" >10000.00</td>\n",
       "      <td id=\"T_fbeb1_row0_col5\" class=\"data row0 col5\" >10000.00</td>\n",
       "      <td id=\"T_fbeb1_row0_col6\" class=\"data row0 col6\" >10000.00</td>\n",
       "    </tr>\n",
       "    <tr>\n",
       "      <th id=\"T_fbeb1_level0_row1\" class=\"row_heading level0 row1\" >mean</th>\n",
       "      <td id=\"T_fbeb1_row1_col0\" class=\"data row1 col0\" >0.16</td>\n",
       "      <td id=\"T_fbeb1_row1_col1\" class=\"data row1 col1\" >0.00</td>\n",
       "      <td id=\"T_fbeb1_row1_col2\" class=\"data row1 col2\" >0.10</td>\n",
       "      <td id=\"T_fbeb1_row1_col3\" class=\"data row1 col3\" >0.39</td>\n",
       "      <td id=\"T_fbeb1_row1_col4\" class=\"data row1 col4\" >0.67</td>\n",
       "      <td id=\"T_fbeb1_row1_col5\" class=\"data row1 col5\" >0.20</td>\n",
       "      <td id=\"T_fbeb1_row1_col6\" class=\"data row1 col6\" >-0.59</td>\n",
       "    </tr>\n",
       "    <tr>\n",
       "      <th id=\"T_fbeb1_level0_row2\" class=\"row_heading level0 row2\" >std</th>\n",
       "      <td id=\"T_fbeb1_row2_col0\" class=\"data row2 col0\" >1.10</td>\n",
       "      <td id=\"T_fbeb1_row2_col1\" class=\"data row2 col1\" >1.08</td>\n",
       "      <td id=\"T_fbeb1_row2_col2\" class=\"data row2 col2\" >1.05</td>\n",
       "      <td id=\"T_fbeb1_row2_col3\" class=\"data row2 col3\" >0.78</td>\n",
       "      <td id=\"T_fbeb1_row2_col4\" class=\"data row2 col4\" >0.68</td>\n",
       "      <td id=\"T_fbeb1_row2_col5\" class=\"data row2 col5\" >1.03</td>\n",
       "      <td id=\"T_fbeb1_row2_col6\" class=\"data row2 col6\" >0.48</td>\n",
       "    </tr>\n",
       "    <tr>\n",
       "      <th id=\"T_fbeb1_level0_row3\" class=\"row_heading level0 row3\" >min</th>\n",
       "      <td id=\"T_fbeb1_row3_col0\" class=\"data row3 col0\" >-1.40</td>\n",
       "      <td id=\"T_fbeb1_row3_col1\" class=\"data row3 col1\" >-1.26</td>\n",
       "      <td id=\"T_fbeb1_row3_col2\" class=\"data row3 col2\" >-1.04</td>\n",
       "      <td id=\"T_fbeb1_row3_col3\" class=\"data row3 col3\" >-1.79</td>\n",
       "      <td id=\"T_fbeb1_row3_col4\" class=\"data row3 col4\" >-1.78</td>\n",
       "      <td id=\"T_fbeb1_row3_col5\" class=\"data row3 col5\" >-3.54</td>\n",
       "      <td id=\"T_fbeb1_row3_col6\" class=\"data row3 col6\" >-2.17</td>\n",
       "    </tr>\n",
       "    <tr>\n",
       "      <th id=\"T_fbeb1_level0_row4\" class=\"row_heading level0 row4\" >25%</th>\n",
       "      <td id=\"T_fbeb1_row4_col0\" class=\"data row4 col0\" >-0.85</td>\n",
       "      <td id=\"T_fbeb1_row4_col1\" class=\"data row4 col1\" >-0.79</td>\n",
       "      <td id=\"T_fbeb1_row4_col2\" class=\"data row4 col2\" >-1.03</td>\n",
       "      <td id=\"T_fbeb1_row4_col3\" class=\"data row4 col3\" >-0.20</td>\n",
       "      <td id=\"T_fbeb1_row4_col4\" class=\"data row4 col4\" >0.23</td>\n",
       "      <td id=\"T_fbeb1_row4_col5\" class=\"data row4 col5\" >-0.55</td>\n",
       "      <td id=\"T_fbeb1_row4_col6\" class=\"data row4 col6\" >-0.94</td>\n",
       "    </tr>\n",
       "    <tr>\n",
       "      <th id=\"T_fbeb1_level0_row5\" class=\"row_heading level0 row5\" >50%</th>\n",
       "      <td id=\"T_fbeb1_row5_col0\" class=\"data row5 col0\" >0.00</td>\n",
       "      <td id=\"T_fbeb1_row5_col1\" class=\"data row5 col1\" >-0.48</td>\n",
       "      <td id=\"T_fbeb1_row5_col2\" class=\"data row5 col2\" >0.00</td>\n",
       "      <td id=\"T_fbeb1_row5_col3\" class=\"data row5 col3\" >0.39</td>\n",
       "      <td id=\"T_fbeb1_row5_col4\" class=\"data row5 col4\" >0.77</td>\n",
       "      <td id=\"T_fbeb1_row5_col5\" class=\"data row5 col5\" >0.06</td>\n",
       "      <td id=\"T_fbeb1_row5_col6\" class=\"data row5 col6\" >-0.45</td>\n",
       "    </tr>\n",
       "    <tr>\n",
       "      <th id=\"T_fbeb1_level0_row6\" class=\"row_heading level0 row6\" >75%</th>\n",
       "      <td id=\"T_fbeb1_row6_col0\" class=\"data row6 col0\" >1.14</td>\n",
       "      <td id=\"T_fbeb1_row6_col1\" class=\"data row6 col1\" >0.62</td>\n",
       "      <td id=\"T_fbeb1_row6_col2\" class=\"data row6 col2\" >1.24</td>\n",
       "      <td id=\"T_fbeb1_row6_col3\" class=\"data row6 col3\" >1.08</td>\n",
       "      <td id=\"T_fbeb1_row6_col4\" class=\"data row6 col4\" >1.18</td>\n",
       "      <td id=\"T_fbeb1_row6_col5\" class=\"data row6 col5\" >0.79</td>\n",
       "      <td id=\"T_fbeb1_row6_col6\" class=\"data row6 col6\" >-0.20</td>\n",
       "    </tr>\n",
       "    <tr>\n",
       "      <th id=\"T_fbeb1_level0_row7\" class=\"row_heading level0 row7\" >max</th>\n",
       "      <td id=\"T_fbeb1_row7_col0\" class=\"data row7 col0\" >3.10</td>\n",
       "      <td id=\"T_fbeb1_row7_col1\" class=\"data row7 col1\" >4.06</td>\n",
       "      <td id=\"T_fbeb1_row7_col2\" class=\"data row7 col2\" >1.63</td>\n",
       "      <td id=\"T_fbeb1_row7_col3\" class=\"data row7 col3\" >2.02</td>\n",
       "      <td id=\"T_fbeb1_row7_col4\" class=\"data row7 col4\" >3.06</td>\n",
       "      <td id=\"T_fbeb1_row7_col5\" class=\"data row7 col5\" >3.37</td>\n",
       "      <td id=\"T_fbeb1_row7_col6\" class=\"data row7 col6\" >0.29</td>\n",
       "    </tr>\n",
       "  </tbody>\n",
       "</table>\n"
      ],
      "text/plain": [
       "<pandas.io.formats.style.Styler at 0x2f02917b220>"
      ]
     },
     "metadata": {},
     "output_type": "display_data"
    },
    {
     "data": {
      "text/html": [
       "<style type=\"text/css\">\n",
       "</style>\n",
       "<table id=\"T_dce04_\">\n",
       "  <caption>Few lines of the dataset :</caption>\n",
       "  <thead>\n",
       "    <tr>\n",
       "      <th class=\"blank level0\" >&nbsp;</th>\n",
       "      <th class=\"col_heading level0 col0\" >GSW</th>\n",
       "      <th class=\"col_heading level0 col1\" >SWDif</th>\n",
       "      <th class=\"col_heading level0 col2\" >SWDir</th>\n",
       "      <th class=\"col_heading level0 col3\" >LWdn</th>\n",
       "      <th class=\"col_heading level0 col4\" >T</th>\n",
       "      <th class=\"col_heading level0 col5\" >H</th>\n",
       "      <th class=\"col_heading level0 col6\" >P</th>\n",
       "    </tr>\n",
       "  </thead>\n",
       "  <tbody>\n",
       "    <tr>\n",
       "      <th id=\"T_dce04_level0_row0\" class=\"row_heading level0 row0\" >54928</th>\n",
       "      <td id=\"T_dce04_row0_col0\" class=\"data row0 col0\" >-0.34</td>\n",
       "      <td id=\"T_dce04_row0_col1\" class=\"data row0 col1\" >-0.95</td>\n",
       "      <td id=\"T_dce04_row0_col2\" class=\"data row0 col2\" >1.00</td>\n",
       "      <td id=\"T_dce04_row0_col3\" class=\"data row0 col3\" >-0.85</td>\n",
       "      <td id=\"T_dce04_row0_col4\" class=\"data row0 col4\" >0.37</td>\n",
       "      <td id=\"T_dce04_row0_col5\" class=\"data row0 col5\" >-1.35</td>\n",
       "      <td id=\"T_dce04_row0_col6\" class=\"data row0 col6\" >0.29</td>\n",
       "    </tr>\n",
       "    <tr>\n",
       "      <th id=\"T_dce04_level0_row1\" class=\"row_heading level0 row1\" >54929</th>\n",
       "      <td id=\"T_dce04_row1_col0\" class=\"data row1 col0\" >-0.28</td>\n",
       "      <td id=\"T_dce04_row1_col1\" class=\"data row1 col1\" >-0.94</td>\n",
       "      <td id=\"T_dce04_row1_col2\" class=\"data row1 col2\" >1.03</td>\n",
       "      <td id=\"T_dce04_row1_col3\" class=\"data row1 col3\" >-0.85</td>\n",
       "      <td id=\"T_dce04_row1_col4\" class=\"data row1 col4\" >0.39</td>\n",
       "      <td id=\"T_dce04_row1_col5\" class=\"data row1 col5\" >-1.34</td>\n",
       "      <td id=\"T_dce04_row1_col6\" class=\"data row1 col6\" >0.29</td>\n",
       "    </tr>\n",
       "    <tr>\n",
       "      <th id=\"T_dce04_level0_row2\" class=\"row_heading level0 row2\" >54930</th>\n",
       "      <td id=\"T_dce04_row2_col0\" class=\"data row2 col0\" >-0.22</td>\n",
       "      <td id=\"T_dce04_row2_col1\" class=\"data row2 col1\" >-0.93</td>\n",
       "      <td id=\"T_dce04_row2_col2\" class=\"data row2 col2\" >1.06</td>\n",
       "      <td id=\"T_dce04_row2_col3\" class=\"data row2 col3\" >-0.84</td>\n",
       "      <td id=\"T_dce04_row2_col4\" class=\"data row2 col4\" >0.41</td>\n",
       "      <td id=\"T_dce04_row2_col5\" class=\"data row2 col5\" >-1.37</td>\n",
       "      <td id=\"T_dce04_row2_col6\" class=\"data row2 col6\" >0.29</td>\n",
       "    </tr>\n",
       "    <tr>\n",
       "      <th id=\"T_dce04_level0_row3\" class=\"row_heading level0 row3\" >54931</th>\n",
       "      <td id=\"T_dce04_row3_col0\" class=\"data row3 col0\" >-0.16</td>\n",
       "      <td id=\"T_dce04_row3_col1\" class=\"data row3 col1\" >-0.92</td>\n",
       "      <td id=\"T_dce04_row3_col2\" class=\"data row3 col2\" >1.08</td>\n",
       "      <td id=\"T_dce04_row3_col3\" class=\"data row3 col3\" >-0.84</td>\n",
       "      <td id=\"T_dce04_row3_col4\" class=\"data row3 col4\" >0.50</td>\n",
       "      <td id=\"T_dce04_row3_col5\" class=\"data row3 col5\" >-1.43</td>\n",
       "      <td id=\"T_dce04_row3_col6\" class=\"data row3 col6\" >0.29</td>\n",
       "    </tr>\n",
       "    <tr>\n",
       "      <th id=\"T_dce04_level0_row4\" class=\"row_heading level0 row4\" >54932</th>\n",
       "      <td id=\"T_dce04_row4_col0\" class=\"data row4 col0\" >-0.10</td>\n",
       "      <td id=\"T_dce04_row4_col1\" class=\"data row4 col1\" >-0.91</td>\n",
       "      <td id=\"T_dce04_row4_col2\" class=\"data row4 col2\" >1.10</td>\n",
       "      <td id=\"T_dce04_row4_col3\" class=\"data row4 col3\" >-0.83</td>\n",
       "      <td id=\"T_dce04_row4_col4\" class=\"data row4 col4\" >0.37</td>\n",
       "      <td id=\"T_dce04_row4_col5\" class=\"data row4 col5\" >-1.36</td>\n",
       "      <td id=\"T_dce04_row4_col6\" class=\"data row4 col6\" >0.29</td>\n",
       "    </tr>\n",
       "  </tbody>\n",
       "</table>\n"
      ],
      "text/plain": [
       "<pandas.io.formats.style.Styler at 0x2f02975b1f0>"
      ]
     },
     "metadata": {},
     "output_type": "display_data"
    }
   ],
   "source": [
    "display(x_pred.describe().style.format(\"{0:.2f}\").set_caption(\"Before normalization :\"))\n",
    "# for pred \n",
    "x_pred = (x_pred - mean) / std\n",
    "\n",
    "display(x_pred.describe().style.format(\"{0:.2f}\").set_caption(\"After normalization :\"))\n",
    "display(x_pred.head(5).style.format(\"{0:.2f}\").set_caption(\"Few lines of the dataset :\"))\n",
    "\n",
    "x_pred,  y_real  = np.array(x_pred),  np.array(y_real)"
   ]
  },
  {
   "cell_type": "markdown",
   "metadata": {},
   "source": [
    "## Step 4 - Build a model\n",
    "About informations about : \n",
    " - [Optimizer](https://www.tensorflow.org/api_docs/python/tf/keras/optimizers)\n",
    " - [Activation](https://www.tensorflow.org/api_docs/python/tf/keras/activations)\n",
    " - [Loss](https://www.tensorflow.org/api_docs/python/tf/keras/losses)\n",
    " - [Metrics](https://www.tensorflow.org/api_docs/python/tf/keras/metrics)\n",
    " \n",
    " The range of layers and neuron have been chosen according to the data and the number of features."
   ]
  },
  {
   "cell_type": "code",
   "execution_count": 13,
   "metadata": {},
   "outputs": [],
   "source": [
    "def build_model(hp):\n",
    "    \n",
    "    model = keras.models.Sequential()\n",
    "    \n",
    "    model.add(keras.layers.Input(7, name=\"InputLayer\"))\n",
    "    \n",
    "    model.add(keras.layers.Dense(hp.Choice('units', [8, 10, 12]), activation='relu', name='Dense_n1'))\n",
    "    \n",
    "    model.add(keras.layers.Dense(hp.Choice('units', [8, 10, 12]), activation='relu', name='Dense_n2'))\n",
    "    \n",
    "    model.add(keras.layers.Dense(hp.Choice('units', [8, 10, 12]), activation='relu', name='Dense_n3'))\n",
    "    \n",
    "    model.add(keras.layers.Dense(1, name='Output'))\n",
    "    \n",
    "    learning_rate = hp.Float(\"lr\", min_value=1e-3, max_value=1e-2, sampling=\"log\")\n",
    "    \n",
    "    model.compile(optimizer= keras.optimizers.Adam(learning_rate=learning_rate),\n",
    "                  loss      = 'mse',\n",
    "                  metrics   = ['mae', 'mse'])\n",
    "    \n",
    "    return model"
   ]
  },
  {
   "cell_type": "markdown",
   "metadata": {},
   "source": [
    "Here we use keras tuner to tune the model. There are many package that we can use for optimizing or tuning the hyperparameters. We chose keras tuner beacause it's easy to use. "
   ]
  },
  {
   "cell_type": "markdown",
   "metadata": {},
   "source": [
    "Model to optimize :"
   ]
  },
  {
   "cell_type": "code",
   "execution_count": 14,
   "metadata": {},
   "outputs": [
    {
     "data": {
      "text/plain": [
       "<keras.engine.sequential.Sequential at 0x2bdb0f1e880>"
      ]
     },
     "execution_count": 14,
     "metadata": {},
     "output_type": "execute_result"
    }
   ],
   "source": [
    "hp = HyperParameters()\n",
    "\n",
    "shape = 7 \n",
    "\n",
    "build_model(kt.HyperParameters())"
   ]
  },
  {
   "cell_type": "markdown",
   "metadata": {},
   "source": [
    "RandomSearch method  for Tuning hyperparameters  "
   ]
  },
  {
   "cell_type": "code",
   "execution_count": 16,
   "metadata": {},
   "outputs": [],
   "source": [
    "tuner = kt.RandomSearch(hypermodel=build_model, objective=\"val_loss\",\n",
    "                        \n",
    "                        max_trials=3,executions_per_trial=2,overwrite=True,\n",
    "                        \n",
    "                        directory=\"D:/TUTO/data_science/formation_fedel/fidle-master/BHPD/Optimization_results\", project_name=\"Optim_RandomForest\",)"
   ]
  },
  {
   "cell_type": "markdown",
   "metadata": {},
   "source": [
    "Summary"
   ]
  },
  {
   "cell_type": "code",
   "execution_count": 17,
   "metadata": {},
   "outputs": [
    {
     "name": "stdout",
     "output_type": "stream",
     "text": [
      "Search space summary\n",
      "Default search space size: 2\n",
      "units (Choice)\n",
      "{'default': 8, 'conditions': [], 'values': [8, 10, 12], 'ordered': True}\n",
      "lr (Float)\n",
      "{'default': 0.001, 'conditions': [], 'min_value': 0.001, 'max_value': 0.01, 'step': None, 'sampling': 'log'}\n"
     ]
    }
   ],
   "source": [
    "tuner.search_space_summary()"
   ]
  },
  {
   "cell_type": "markdown",
   "metadata": {},
   "source": [
    "\n",
    "\n",
    "Runing keras tuner and search the best hyperparameters\n",
    "\n"
   ]
  },
  {
   "cell_type": "code",
   "execution_count": 18,
   "metadata": {},
   "outputs": [
    {
     "name": "stdout",
     "output_type": "stream",
     "text": [
      "Trial 3 Complete [00h 03m 19s]\n",
      "val_loss: 0.00873398594558239\n",
      "\n",
      "Best val_loss So Far: 0.00873398594558239\n",
      "Total elapsed time: 00h 11m 22s\n",
      "INFO:tensorflow:Oracle triggered exit\n"
     ]
    }
   ],
   "source": [
    "\n",
    "tuner.search(x_train, y_train, epochs=50, validation_data=(x_test, y_test))  # , callbacks=[stop_early]\n"
   ]
  },
  {
   "cell_type": "markdown",
   "metadata": {},
   "source": [
    "Here we take the best model "
   ]
  },
  {
   "cell_type": "code",
   "execution_count": 19,
   "metadata": {},
   "outputs": [
    {
     "data": {
      "text/plain": [
       "(<keras.engine.sequential.Sequential at 0x2bdb3d64070>,\n",
       " <keras_tuner.engine.hyperparameters.HyperParameters at 0x2bdb5c71b50>)"
      ]
     },
     "execution_count": 19,
     "metadata": {},
     "output_type": "execute_result"
    }
   ],
   "source": [
    "# Get the top 2 models.\n",
    "# models = tuner.get_best_models(num_models=1)\n",
    "\n",
    "best_model_1 =  tuner.get_best_models()[0]\n",
    "\n",
    "best_hps=tuner.get_best_hyperparameters(num_trials=1)[0]\n",
    "\n",
    "best_model_1 , best_hps"
   ]
  },
  {
   "cell_type": "markdown",
   "metadata": {},
   "source": [
    "## Step 5 - Train the model\n",
    "### 5.1 - Get it"
   ]
  },
  {
   "cell_type": "code",
   "execution_count": 22,
   "metadata": {},
   "outputs": [
    {
     "name": "stdout",
     "output_type": "stream",
     "text": [
      "Results summary\n",
      "Results in D:/TUTO/data_science/formation_fedel/fidle-master/BHPD/Optimization_results\\Optim_RandomForest\n",
      "Showing 10 best trials\n",
      "Objective(name='val_loss', direction='min')\n",
      "Trial summary\n",
      "Hyperparameters:\n",
      "units: 10\n",
      "lr: 0.004357747864910277\n",
      "Score: 0.00873398594558239\n",
      "Trial summary\n",
      "Hyperparameters:\n",
      "units: 8\n",
      "lr: 0.0058540376975635125\n",
      "Score: 0.009038576390594244\n",
      "Trial summary\n",
      "Hyperparameters:\n",
      "units: 10\n",
      "lr: 0.00763827492703537\n",
      "Score: 0.009123616386204958\n"
     ]
    }
   ],
   "source": [
    "best_model = tuner.hypermodel.build(best_hps)\n",
    "tuner.results_summary()"
   ]
  },
  {
   "cell_type": "markdown",
   "metadata": {},
   "source": [
    "### 5.2 - Train it"
   ]
  },
  {
   "cell_type": "markdown",
   "metadata": {},
   "source": [
    "We need to retrain the best model "
   ]
  },
  {
   "cell_type": "code",
   "execution_count": 29,
   "metadata": {
    "collapsed": true,
    "jupyter": {
     "outputs_hidden": true
    },
    "tags": []
   },
   "outputs": [
    {
     "name": "stdout",
     "output_type": "stream",
     "text": [
      "Epoch 1/50\n",
      "5219/5219 [==============================] - 7s 1ms/step - loss: 0.0136 - mae: 0.0791 - mse: 0.0136 - val_loss: 0.0112 - val_mae: 0.0739 - val_mse: 0.0112\n",
      "Epoch 2/50\n",
      "5219/5219 [==============================] - 7s 1ms/step - loss: 0.0108 - mae: 0.0716 - mse: 0.0108 - val_loss: 0.0115 - val_mae: 0.0724 - val_mse: 0.0115\n",
      "Epoch 3/50\n",
      "5219/5219 [==============================] - 7s 1ms/step - loss: 0.0105 - mae: 0.0706 - mse: 0.0105 - val_loss: 0.0113 - val_mae: 0.0738 - val_mse: 0.0113\n",
      "Epoch 4/50\n",
      "5219/5219 [==============================] - 6s 1ms/step - loss: 0.0103 - mae: 0.0694 - mse: 0.0103 - val_loss: 0.0103 - val_mae: 0.0699 - val_mse: 0.0103\n",
      "Epoch 5/50\n",
      "5219/5219 [==============================] - 7s 1ms/step - loss: 0.0101 - mae: 0.0683 - mse: 0.0101 - val_loss: 0.0100 - val_mae: 0.0678 - val_mse: 0.0100\n",
      "Epoch 6/50\n",
      "5219/5219 [==============================] - 7s 1ms/step - loss: 0.0100 - mae: 0.0680 - mse: 0.0100 - val_loss: 0.0099 - val_mae: 0.0661 - val_mse: 0.0099\n",
      "Epoch 7/50\n",
      "5219/5219 [==============================] - 7s 1ms/step - loss: 0.0099 - mae: 0.0676 - mse: 0.0099 - val_loss: 0.0095 - val_mae: 0.0647 - val_mse: 0.0095\n",
      "Epoch 8/50\n",
      "5219/5219 [==============================] - 7s 1ms/step - loss: 0.0099 - mae: 0.0677 - mse: 0.0099 - val_loss: 0.0102 - val_mae: 0.0675 - val_mse: 0.0102\n",
      "Epoch 9/50\n",
      "5219/5219 [==============================] - 6s 1ms/step - loss: 0.0098 - mae: 0.0675 - mse: 0.0098 - val_loss: 0.0103 - val_mae: 0.0677 - val_mse: 0.0103\n",
      "Epoch 10/50\n",
      "5219/5219 [==============================] - 7s 1ms/step - loss: 0.0098 - mae: 0.0673 - mse: 0.0098 - val_loss: 0.0103 - val_mae: 0.0671 - val_mse: 0.0103\n",
      "Epoch 11/50\n",
      "5219/5219 [==============================] - 6s 1ms/step - loss: 0.0098 - mae: 0.0675 - mse: 0.0098 - val_loss: 0.0110 - val_mae: 0.0733 - val_mse: 0.0110\n",
      "Epoch 12/50\n",
      "5219/5219 [==============================] - 7s 1ms/step - loss: 0.0098 - mae: 0.0674 - mse: 0.0098 - val_loss: 0.0101 - val_mae: 0.0683 - val_mse: 0.0101\n",
      "Epoch 13/50\n",
      "5219/5219 [==============================] - 8s 2ms/step - loss: 0.0097 - mae: 0.0672 - mse: 0.0097 - val_loss: 0.0096 - val_mae: 0.0661 - val_mse: 0.0096\n",
      "Epoch 14/50\n",
      "5219/5219 [==============================] - 9s 2ms/step - loss: 0.0098 - mae: 0.0674 - mse: 0.0098 - val_loss: 0.0094 - val_mae: 0.0650 - val_mse: 0.0094\n",
      "Epoch 15/50\n",
      "5219/5219 [==============================] - 8s 1ms/step - loss: 0.0097 - mae: 0.0671 - mse: 0.0097 - val_loss: 0.0103 - val_mae: 0.0686 - val_mse: 0.0103\n",
      "Epoch 16/50\n",
      "5219/5219 [==============================] - 7s 1ms/step - loss: 0.0097 - mae: 0.0671 - mse: 0.0097 - val_loss: 0.0096 - val_mae: 0.0664 - val_mse: 0.0096\n",
      "Epoch 17/50\n",
      "5219/5219 [==============================] - 7s 1ms/step - loss: 0.0097 - mae: 0.0671 - mse: 0.0097 - val_loss: 0.0097 - val_mae: 0.0685 - val_mse: 0.0097\n",
      "Epoch 18/50\n",
      "5219/5219 [==============================] - 7s 1ms/step - loss: 0.0097 - mae: 0.0673 - mse: 0.0097 - val_loss: 0.0094 - val_mae: 0.0635 - val_mse: 0.0094\n",
      "Epoch 19/50\n",
      "5219/5219 [==============================] - 7s 1ms/step - loss: 0.0097 - mae: 0.0670 - mse: 0.0097 - val_loss: 0.0100 - val_mae: 0.0706 - val_mse: 0.0100\n",
      "Epoch 20/50\n",
      "5219/5219 [==============================] - 7s 1ms/step - loss: 0.0097 - mae: 0.0671 - mse: 0.0097 - val_loss: 0.0100 - val_mae: 0.0673 - val_mse: 0.0100\n",
      "Epoch 21/50\n",
      "5219/5219 [==============================] - 7s 1ms/step - loss: 0.0097 - mae: 0.0671 - mse: 0.0097 - val_loss: 0.0104 - val_mae: 0.0710 - val_mse: 0.0104\n",
      "Epoch 22/50\n",
      "5219/5219 [==============================] - 7s 1ms/step - loss: 0.0097 - mae: 0.0671 - mse: 0.0097 - val_loss: 0.0094 - val_mae: 0.0666 - val_mse: 0.0094\n",
      "Epoch 23/50\n",
      "5219/5219 [==============================] - 6s 1ms/step - loss: 0.0097 - mae: 0.0672 - mse: 0.0097 - val_loss: 0.0105 - val_mae: 0.0716 - val_mse: 0.0105\n",
      "Epoch 24/50\n",
      "5219/5219 [==============================] - 7s 1ms/step - loss: 0.0096 - mae: 0.0670 - mse: 0.0096 - val_loss: 0.0095 - val_mae: 0.0662 - val_mse: 0.0095\n",
      "Epoch 25/50\n",
      "5219/5219 [==============================] - 6s 1ms/step - loss: 0.0097 - mae: 0.0672 - mse: 0.0097 - val_loss: 0.0093 - val_mae: 0.0653 - val_mse: 0.0093\n",
      "Epoch 26/50\n",
      "5219/5219 [==============================] - 7s 1ms/step - loss: 0.0096 - mae: 0.0669 - mse: 0.0096 - val_loss: 0.0099 - val_mae: 0.0651 - val_mse: 0.0099\n",
      "Epoch 27/50\n",
      "5219/5219 [==============================] - 7s 1ms/step - loss: 0.0096 - mae: 0.0668 - mse: 0.0096 - val_loss: 0.0093 - val_mae: 0.0669 - val_mse: 0.0093\n",
      "Epoch 28/50\n",
      "5219/5219 [==============================] - 7s 1ms/step - loss: 0.0096 - mae: 0.0669 - mse: 0.0096 - val_loss: 0.0099 - val_mae: 0.0695 - val_mse: 0.0099\n",
      "Epoch 29/50\n",
      "5219/5219 [==============================] - 6s 1ms/step - loss: 0.0096 - mae: 0.0666 - mse: 0.0096 - val_loss: 0.0105 - val_mae: 0.0736 - val_mse: 0.0105\n",
      "Epoch 30/50\n",
      "5219/5219 [==============================] - 6s 1ms/step - loss: 0.0096 - mae: 0.0669 - mse: 0.0096 - val_loss: 0.0095 - val_mae: 0.0655 - val_mse: 0.0095\n",
      "Epoch 31/50\n",
      "5219/5219 [==============================] - 7s 1ms/step - loss: 0.0095 - mae: 0.0667 - mse: 0.0095 - val_loss: 0.0096 - val_mae: 0.0654 - val_mse: 0.0096\n",
      "Epoch 32/50\n",
      "5219/5219 [==============================] - 6s 1ms/step - loss: 0.0096 - mae: 0.0668 - mse: 0.0096 - val_loss: 0.0093 - val_mae: 0.0655 - val_mse: 0.0093\n",
      "Epoch 33/50\n",
      "5219/5219 [==============================] - 8s 1ms/step - loss: 0.0095 - mae: 0.0665 - mse: 0.0095 - val_loss: 0.0091 - val_mae: 0.0635 - val_mse: 0.0091\n",
      "Epoch 34/50\n",
      "5219/5219 [==============================] - 10s 2ms/step - loss: 0.0095 - mae: 0.0664 - mse: 0.0095 - val_loss: 0.0111 - val_mae: 0.0759 - val_mse: 0.0111\n",
      "Epoch 35/50\n",
      "5219/5219 [==============================] - 9s 2ms/step - loss: 0.0095 - mae: 0.0668 - mse: 0.0095 - val_loss: 0.0102 - val_mae: 0.0750 - val_mse: 0.0102\n",
      "Epoch 36/50\n",
      "5219/5219 [==============================] - 8s 1ms/step - loss: 0.0095 - mae: 0.0667 - mse: 0.0095 - val_loss: 0.0097 - val_mae: 0.0666 - val_mse: 0.0097\n",
      "Epoch 37/50\n",
      "5219/5219 [==============================] - 9s 2ms/step - loss: 0.0095 - mae: 0.0665 - mse: 0.0095 - val_loss: 0.0093 - val_mae: 0.0643 - val_mse: 0.0093\n",
      "Epoch 38/50\n",
      "5219/5219 [==============================] - 8s 2ms/step - loss: 0.0095 - mae: 0.0665 - mse: 0.0095 - val_loss: 0.0092 - val_mae: 0.0642 - val_mse: 0.0092\n",
      "Epoch 39/50\n",
      "5219/5219 [==============================] - 8s 1ms/step - loss: 0.0094 - mae: 0.0663 - mse: 0.0094 - val_loss: 0.0093 - val_mae: 0.0658 - val_mse: 0.0093\n",
      "Epoch 40/50\n",
      "5219/5219 [==============================] - 6s 1ms/step - loss: 0.0095 - mae: 0.0665 - mse: 0.0095 - val_loss: 0.0093 - val_mae: 0.0662 - val_mse: 0.0093\n",
      "Epoch 41/50\n",
      "5219/5219 [==============================] - 7s 1ms/step - loss: 0.0095 - mae: 0.0666 - mse: 0.0095 - val_loss: 0.0094 - val_mae: 0.0655 - val_mse: 0.0094\n",
      "Epoch 42/50\n",
      "5219/5219 [==============================] - 6s 1ms/step - loss: 0.0094 - mae: 0.0664 - mse: 0.0094 - val_loss: 0.0094 - val_mae: 0.0643 - val_mse: 0.0094\n",
      "Epoch 43/50\n",
      "5219/5219 [==============================] - 6s 1ms/step - loss: 0.0095 - mae: 0.0665 - mse: 0.0095 - val_loss: 0.0094 - val_mae: 0.0668 - val_mse: 0.0094\n",
      "Epoch 44/50\n",
      "5219/5219 [==============================] - 8s 2ms/step - loss: 0.0095 - mae: 0.0665 - mse: 0.0095 - val_loss: 0.0093 - val_mae: 0.0647 - val_mse: 0.0093\n",
      "Epoch 45/50\n",
      "5219/5219 [==============================] - 8s 1ms/step - loss: 0.0094 - mae: 0.0666 - mse: 0.0094 - val_loss: 0.0101 - val_mae: 0.0694 - val_mse: 0.0101\n",
      "Epoch 46/50\n",
      "5219/5219 [==============================] - 8s 2ms/step - loss: 0.0094 - mae: 0.0664 - mse: 0.0094 - val_loss: 0.0092 - val_mae: 0.0642 - val_mse: 0.0092\n",
      "Epoch 47/50\n",
      "5219/5219 [==============================] - 7s 1ms/step - loss: 0.0094 - mae: 0.0664 - mse: 0.0094 - val_loss: 0.0095 - val_mae: 0.0649 - val_mse: 0.0095\n",
      "Epoch 48/50\n",
      "5219/5219 [==============================] - 8s 1ms/step - loss: 0.0094 - mae: 0.0664 - mse: 0.0094 - val_loss: 0.0093 - val_mae: 0.0650 - val_mse: 0.0093\n",
      "Epoch 49/50\n",
      "5219/5219 [==============================] - 6s 1ms/step - loss: 0.0094 - mae: 0.0663 - mse: 0.0094 - val_loss: 0.0090 - val_mae: 0.0636 - val_mse: 0.0090\n",
      "Epoch 50/50\n",
      "5219/5219 [==============================] - 7s 1ms/step - loss: 0.0094 - mae: 0.0664 - mse: 0.0094 - val_loss: 0.0092 - val_mae: 0.0663 - val_mse: 0.0092\n"
     ]
    }
   ],
   "source": [
    "es       =  EarlyStopping(monitor='val_loss', mode='min', verbose=1, patience=200)\n",
    "\n",
    "checkpoint_cb = keras.callbacks.ModelCheckpoint(\"check_point_my_keras_model.h5\",save_best_only=True)\n",
    "\n",
    "best_model = tuner.hypermodel.build(best_hps)\n",
    "\n",
    "history = best_model.fit(x_train,\n",
    "                    y_train,\n",
    "                    epochs          = 50,  #60 init \n",
    "                    batch_size      = 10,  #10\n",
    "                    verbose         = fit_verbosity,\n",
    "                    callbacks       =[es,checkpoint_cb],\n",
    "                    validation_data = (x_test, y_test))"
   ]
  },
  {
   "cell_type": "markdown",
   "metadata": {},
   "source": [
    "#### Recovery of the model in the event of a training stoppage "
   ]
  },
  {
   "cell_type": "code",
   "execution_count": null,
   "metadata": {},
   "outputs": [],
   "source": [
    "model = keras.models.load_model(\"check_point_my_keras_model.h5\") "
   ]
  },
  {
   "cell_type": "code",
   "execution_count": 18,
   "metadata": {},
   "outputs": [],
   "source": [
    "keras.utils.plot_model(best_model)"
   ]
  },
  {
   "cell_type": "markdown",
   "metadata": {},
   "source": [
    "#### Best epoch for training "
   ]
  },
  {
   "cell_type": "code",
   "execution_count": 16,
   "metadata": {},
   "outputs": [],
   "source": [
    "val_loss_per_epoch = history.history['val_loss']\n",
    "\n",
    "best_epoch = val_loss_per_epoch.index(max(val_loss_per_epoch)) + 1\n",
    "\n",
    "print('Best epoch: %d' % (best_epoch,))"
   ]
  },
  {
   "cell_type": "markdown",
   "metadata": {},
   "source": [
    "We retrain with the best epoch "
   ]
  },
  {
   "cell_type": "code",
   "execution_count": 33,
   "metadata": {
    "collapsed": true,
    "jupyter": {
     "outputs_hidden": true
    }
   },
   "outputs": [
    {
     "name": "stdout",
     "output_type": "stream",
     "text": [
      "Epoch 1/50\n",
      "5219/5219 [==============================] - 7s 1ms/step - loss: 0.0130 - mae: 0.0778 - mse: 0.0130 - val_loss: 0.0111 - val_mae: 0.0728 - val_mse: 0.0111\n",
      "Epoch 2/50\n",
      "5219/5219 [==============================] - 6s 1ms/step - loss: 0.0108 - mae: 0.0712 - mse: 0.0108 - val_loss: 0.0108 - val_mae: 0.0706 - val_mse: 0.0108\n",
      "Epoch 3/50\n",
      "5219/5219 [==============================] - 7s 1ms/step - loss: 0.0105 - mae: 0.0702 - mse: 0.0105 - val_loss: 0.0117 - val_mae: 0.0779 - val_mse: 0.0117\n",
      "Epoch 4/50\n",
      "5219/5219 [==============================] - 7s 1ms/step - loss: 0.0103 - mae: 0.0694 - mse: 0.0103 - val_loss: 0.0098 - val_mae: 0.0683 - val_mse: 0.0098\n",
      "Epoch 5/50\n",
      "5219/5219 [==============================] - 7s 1ms/step - loss: 0.0102 - mae: 0.0685 - mse: 0.0102 - val_loss: 0.0100 - val_mae: 0.0669 - val_mse: 0.0100\n",
      "Epoch 6/50\n",
      "5219/5219 [==============================] - 7s 1ms/step - loss: 0.0100 - mae: 0.0678 - mse: 0.0100 - val_loss: 0.0102 - val_mae: 0.0657 - val_mse: 0.0102\n",
      "Epoch 7/50\n",
      "5219/5219 [==============================] - 7s 1ms/step - loss: 0.0099 - mae: 0.0673 - mse: 0.0099 - val_loss: 0.0100 - val_mae: 0.0688 - val_mse: 0.0100\n",
      "Epoch 8/50\n",
      "5219/5219 [==============================] - 7s 1ms/step - loss: 0.0098 - mae: 0.0672 - mse: 0.0098 - val_loss: 0.0094 - val_mae: 0.0640 - val_mse: 0.0094\n",
      "Epoch 9/50\n",
      "5219/5219 [==============================] - 6s 1ms/step - loss: 0.0098 - mae: 0.0670 - mse: 0.0098 - val_loss: 0.0099 - val_mae: 0.0651 - val_mse: 0.0099\n",
      "Epoch 10/50\n",
      "5219/5219 [==============================] - 7s 1ms/step - loss: 0.0098 - mae: 0.0672 - mse: 0.0098 - val_loss: 0.0104 - val_mae: 0.0704 - val_mse: 0.0104\n",
      "Epoch 11/50\n",
      "5219/5219 [==============================] - 6s 1ms/step - loss: 0.0098 - mae: 0.0669 - mse: 0.0098 - val_loss: 0.0096 - val_mae: 0.0661 - val_mse: 0.0096\n",
      "Epoch 12/50\n",
      "5219/5219 [==============================] - 7s 1ms/step - loss: 0.0097 - mae: 0.0669 - mse: 0.0097 - val_loss: 0.0097 - val_mae: 0.0663 - val_mse: 0.0097\n",
      "Epoch 13/50\n",
      "5219/5219 [==============================] - 6s 1ms/step - loss: 0.0097 - mae: 0.0665 - mse: 0.0097 - val_loss: 0.0094 - val_mae: 0.0640 - val_mse: 0.0094\n",
      "Epoch 14/50\n",
      "5219/5219 [==============================] - 6s 1ms/step - loss: 0.0097 - mae: 0.0669 - mse: 0.0097 - val_loss: 0.0104 - val_mae: 0.0693 - val_mse: 0.0104\n",
      "Epoch 15/50\n",
      "5219/5219 [==============================] - 7s 1ms/step - loss: 0.0096 - mae: 0.0664 - mse: 0.0096 - val_loss: 0.0095 - val_mae: 0.0647 - val_mse: 0.0095\n",
      "Epoch 16/50\n",
      "5219/5219 [==============================] - 6s 1ms/step - loss: 0.0096 - mae: 0.0665 - mse: 0.0096 - val_loss: 0.0101 - val_mae: 0.0650 - val_mse: 0.0101\n",
      "Epoch 17/50\n",
      "5219/5219 [==============================] - 7s 1ms/step - loss: 0.0096 - mae: 0.0666 - mse: 0.0096 - val_loss: 0.0096 - val_mae: 0.0645 - val_mse: 0.0096\n",
      "Epoch 18/50\n",
      "5219/5219 [==============================] - 7s 1ms/step - loss: 0.0096 - mae: 0.0665 - mse: 0.0096 - val_loss: 0.0098 - val_mae: 0.0689 - val_mse: 0.0098\n",
      "Epoch 19/50\n",
      "5219/5219 [==============================] - 7s 1ms/step - loss: 0.0096 - mae: 0.0665 - mse: 0.0096 - val_loss: 0.0099 - val_mae: 0.0654 - val_mse: 0.0099\n",
      "Epoch 20/50\n",
      "5219/5219 [==============================] - 8s 1ms/step - loss: 0.0096 - mae: 0.0667 - mse: 0.0096 - val_loss: 0.0096 - val_mae: 0.0645 - val_mse: 0.0096\n",
      "Epoch 21/50\n",
      "5219/5219 [==============================] - 9s 2ms/step - loss: 0.0096 - mae: 0.0666 - mse: 0.0096 - val_loss: 0.0097 - val_mae: 0.0682 - val_mse: 0.0097\n",
      "Epoch 22/50\n",
      "5219/5219 [==============================] - 9s 2ms/step - loss: 0.0096 - mae: 0.0664 - mse: 0.0096 - val_loss: 0.0094 - val_mae: 0.0642 - val_mse: 0.0094\n",
      "Epoch 23/50\n",
      "5219/5219 [==============================] - 8s 1ms/step - loss: 0.0095 - mae: 0.0664 - mse: 0.0095 - val_loss: 0.0094 - val_mae: 0.0652 - val_mse: 0.0094\n",
      "Epoch 24/50\n",
      "5219/5219 [==============================] - 7s 1ms/step - loss: 0.0095 - mae: 0.0662 - mse: 0.0095 - val_loss: 0.0093 - val_mae: 0.0639 - val_mse: 0.0093\n",
      "Epoch 25/50\n",
      "5219/5219 [==============================] - 6s 1ms/step - loss: 0.0095 - mae: 0.0663 - mse: 0.0095 - val_loss: 0.0093 - val_mae: 0.0647 - val_mse: 0.0093\n",
      "Epoch 26/50\n",
      "5219/5219 [==============================] - 7s 1ms/step - loss: 0.0095 - mae: 0.0661 - mse: 0.0095 - val_loss: 0.0096 - val_mae: 0.0664 - val_mse: 0.0096\n",
      "Epoch 27/50\n",
      "5219/5219 [==============================] - 7s 1ms/step - loss: 0.0095 - mae: 0.0662 - mse: 0.0095 - val_loss: 0.0097 - val_mae: 0.0694 - val_mse: 0.0097\n",
      "Epoch 28/50\n",
      "5219/5219 [==============================] - 7s 1ms/step - loss: 0.0095 - mae: 0.0663 - mse: 0.0095 - val_loss: 0.0092 - val_mae: 0.0637 - val_mse: 0.0092\n",
      "Epoch 29/50\n",
      "5219/5219 [==============================] - 6s 1ms/step - loss: 0.0095 - mae: 0.0661 - mse: 0.0095 - val_loss: 0.0101 - val_mae: 0.0668 - val_mse: 0.0101\n",
      "Epoch 30/50\n",
      "5219/5219 [==============================] - 8s 2ms/step - loss: 0.0095 - mae: 0.0664 - mse: 0.0095 - val_loss: 0.0099 - val_mae: 0.0683 - val_mse: 0.0099\n",
      "Epoch 31/50\n",
      "5219/5219 [==============================] - 8s 1ms/step - loss: 0.0095 - mae: 0.0661 - mse: 0.0095 - val_loss: 0.0091 - val_mae: 0.0623 - val_mse: 0.0091\n",
      "Epoch 32/50\n",
      "5219/5219 [==============================] - 8s 2ms/step - loss: 0.0094 - mae: 0.0661 - mse: 0.0094 - val_loss: 0.0096 - val_mae: 0.0637 - val_mse: 0.0096\n",
      "Epoch 33/50\n",
      "5219/5219 [==============================] - 9s 2ms/step - loss: 0.0094 - mae: 0.0658 - mse: 0.0094 - val_loss: 0.0097 - val_mae: 0.0658 - val_mse: 0.0097\n",
      "Epoch 34/50\n",
      "5219/5219 [==============================] - 7s 1ms/step - loss: 0.0095 - mae: 0.0662 - mse: 0.0095 - val_loss: 0.0093 - val_mae: 0.0630 - val_mse: 0.0093\n",
      "Epoch 35/50\n",
      "5219/5219 [==============================] - 7s 1ms/step - loss: 0.0094 - mae: 0.0657 - mse: 0.0094 - val_loss: 0.0096 - val_mae: 0.0660 - val_mse: 0.0096\n",
      "Epoch 36/50\n",
      "5219/5219 [==============================] - 7s 1ms/step - loss: 0.0094 - mae: 0.0659 - mse: 0.0094 - val_loss: 0.0092 - val_mae: 0.0638 - val_mse: 0.0092\n",
      "Epoch 37/50\n",
      "5219/5219 [==============================] - 7s 1ms/step - loss: 0.0094 - mae: 0.0661 - mse: 0.0094 - val_loss: 0.0097 - val_mae: 0.0658 - val_mse: 0.0097\n",
      "Epoch 38/50\n",
      "5219/5219 [==============================] - 8s 2ms/step - loss: 0.0095 - mae: 0.0661 - mse: 0.0095 - val_loss: 0.0092 - val_mae: 0.0657 - val_mse: 0.0092\n",
      "Epoch 39/50\n",
      "5219/5219 [==============================] - 7s 1ms/step - loss: 0.0094 - mae: 0.0661 - mse: 0.0094 - val_loss: 0.0092 - val_mae: 0.0638 - val_mse: 0.0092\n",
      "Epoch 40/50\n",
      "5219/5219 [==============================] - 6s 1ms/step - loss: 0.0094 - mae: 0.0661 - mse: 0.0094 - val_loss: 0.0092 - val_mae: 0.0653 - val_mse: 0.0092\n",
      "Epoch 41/50\n",
      "5219/5219 [==============================] - 7s 1ms/step - loss: 0.0094 - mae: 0.0658 - mse: 0.0094 - val_loss: 0.0094 - val_mae: 0.0643 - val_mse: 0.0094\n",
      "Epoch 42/50\n",
      "5219/5219 [==============================] - 8s 1ms/step - loss: 0.0093 - mae: 0.0656 - mse: 0.0093 - val_loss: 0.0094 - val_mae: 0.0631 - val_mse: 0.0094\n",
      "Epoch 43/50\n",
      "5219/5219 [==============================] - 9s 2ms/step - loss: 0.0094 - mae: 0.0660 - mse: 0.0094 - val_loss: 0.0094 - val_mae: 0.0637 - val_mse: 0.0094\n",
      "Epoch 44/50\n",
      "5219/5219 [==============================] - 9s 2ms/step - loss: 0.0093 - mae: 0.0656 - mse: 0.0093 - val_loss: 0.0092 - val_mae: 0.0640 - val_mse: 0.0092\n",
      "Epoch 45/50\n",
      "5219/5219 [==============================] - 7s 1ms/step - loss: 0.0094 - mae: 0.0658 - mse: 0.0094 - val_loss: 0.0098 - val_mae: 0.0685 - val_mse: 0.0098\n",
      "Epoch 46/50\n",
      "5219/5219 [==============================] - 7s 1ms/step - loss: 0.0093 - mae: 0.0659 - mse: 0.0093 - val_loss: 0.0097 - val_mae: 0.0652 - val_mse: 0.0097\n",
      "Epoch 47/50\n",
      "5219/5219 [==============================] - 7s 1ms/step - loss: 0.0094 - mae: 0.0658 - mse: 0.0094 - val_loss: 0.0094 - val_mae: 0.0652 - val_mse: 0.0094\n",
      "Epoch 48/50\n",
      "5219/5219 [==============================] - 7s 1ms/step - loss: 0.0094 - mae: 0.0658 - mse: 0.0094 - val_loss: 0.0094 - val_mae: 0.0673 - val_mse: 0.0094\n",
      "Epoch 49/50\n",
      "5219/5219 [==============================] - 7s 1ms/step - loss: 0.0093 - mae: 0.0658 - mse: 0.0093 - val_loss: 0.0092 - val_mae: 0.0633 - val_mse: 0.0092\n",
      "Epoch 50/50\n",
      "5219/5219 [==============================] - 7s 1ms/step - loss: 0.0093 - mae: 0.0657 - mse: 0.0093 - val_loss: 0.0108 - val_mae: 0.0747 - val_mse: 0.0108\n"
     ]
    }
   ],
   "source": [
    "best_model_epoch_ = tuner.hypermodel.build(best_hps)\n",
    "\n",
    "history_2 = best_model_epoch_.fit(x_train,\n",
    "                    y_train,\n",
    "                    epochs          = 50,  #60 init \n",
    "                    batch_size      = 10,  #10\n",
    "                    verbose         = fit_verbosity,\n",
    "                    callbacks       =[es],\n",
    "                    validation_data = (x_test, y_test))"
   ]
  },
  {
   "cell_type": "code",
   "execution_count": 34,
   "metadata": {},
   "outputs": [
    {
     "name": "stdout",
     "output_type": "stream",
     "text": [
      "86/86 [==============================] - 0s 2ms/step - loss: 0.0092 - mae: 0.0663 - mse: 0.0092\n",
      "[test loss, test score]: [0.00915032159537077, 0.06628234684467316, 0.00915032159537077]\n"
     ]
    }
   ],
   "source": [
    "eval_result = best_model.evaluate(x_test, y_test)\n",
    "print(\"[test loss, test score]:\", eval_result)"
   ]
  },
  {
   "cell_type": "markdown",
   "metadata": {
    "tags": []
   },
   "source": [
    "## Step 6 - Evaluate\n",
    "### 6.1 - Model evaluation\n",
    "MAE =  Mean Absolute Error (between the labels and predictions)  "
   ]
  },
  {
   "cell_type": "code",
   "execution_count": 35,
   "metadata": {},
   "outputs": [
    {
     "name": "stdout",
     "output_type": "stream",
     "text": [
      "x_test / loss      : 0.0092\n",
      "x_test / mae       : 0.0663\n",
      "x_test / mse       : 0.0092\n",
      "loss: 0.92%\n",
      "mae: 6.63%\n",
      "mse: 0.92%\n"
     ]
    }
   ],
   "source": [
    "score = best_model.evaluate(x_test, y_test, verbose=0)\n",
    "\n",
    "print('x_test / loss      : {:5.4f}'.format(score[0]))\n",
    "print('x_test / mae       : {:5.4f}'.format(score[1]))\n",
    "print('x_test / mse       : {:5.4f}'.format(score[2]))\n",
    "\n",
    "for i in range(3):\n",
    "    print(\"%s: %.2f%%\" % (best_model.metrics_names[i], score[i]*100))"
   ]
  },
  {
   "cell_type": "code",
   "execution_count": null,
   "metadata": {},
   "outputs": [],
   "source": [
    "Name_to_save = \"50_3L_epoch_Best_model_ANN\"\n",
    "np.mean(score[0]*100)"
   ]
  },
  {
   "cell_type": "markdown",
   "metadata": {},
   "source": [
    "### Save history in a csv file"
   ]
  },
  {
   "cell_type": "code",
   "execution_count": 11,
   "metadata": {},
   "outputs": [],
   "source": [
    "df=pd.DataFrame(data=history_2.history)\n",
    "\n",
    "filepath = Path('D:\\TUTO\\data science\\formation_fedel\\fidle-datasets\\model.csv')  \n",
    "\n",
    "df.to_csv(Name_to_save+'.csv')  "
   ]
  },
  {
   "cell_type": "markdown",
   "metadata": {},
   "source": [
    "### Save model "
   ]
  },
  {
   "cell_type": "code",
   "execution_count": 39,
   "metadata": {},
   "outputs": [
    {
     "name": "stdout",
     "output_type": "stream",
     "text": [
      "Saved model to disk\n"
     ]
    }
   ],
   "source": [
    "NAME = Name_to_save+\"_{}\".format(int(time.time())) \n",
    "\n",
    "# save model and architecture to single file\n",
    "best_model.save(NAME+\".h5\")\n",
    "\n",
    "print(\"Saved model to disk\")"
   ]
  },
  {
   "cell_type": "markdown",
   "metadata": {
    "tags": []
   },
   "source": [
    "### Load model "
   ]
  },
  {
   "cell_type": "code",
   "execution_count": 18,
   "metadata": {},
   "outputs": [
    {
     "name": "stdout",
     "output_type": "stream",
     "text": [
      "Model: \"sequential_3\"\n",
      "_________________________________________________________________\n",
      " Layer (type)                Output Shape              Param #   \n",
      "=================================================================\n",
      " Dense_n1 (Dense)            (None, 10)                80        \n",
      "                                                                 \n",
      " Dense_n2 (Dense)            (None, 10)                110       \n",
      "                                                                 \n",
      " Dense_n3 (Dense)            (None, 10)                110       \n",
      "                                                                 \n",
      " Output (Dense)              (None, 1)                 11        \n",
      "                                                                 \n",
      "=================================================================\n",
      "Total params: 311\n",
      "Trainable params: 311\n",
      "Non-trainable params: 0\n",
      "_________________________________________________________________\n",
      "loss: 0.86%\n",
      "mae: 6.58%\n",
      "mse: 0.86%\n"
     ]
    }
   ],
   "source": [
    "# load and evaluate a saved model\n",
    "\n",
    "# load model\n",
    "model = load_model(NAME+\".h5\")\n",
    "# model = load_model(\"50_3L_epoch_Best_model_ANN_1645999529.h5\")\n",
    "\n",
    "# summarize model.\n",
    "model.summary()\n",
    "\n",
    "# evaluate the model\n",
    "score = model.evaluate(x_test, y_test, verbose=0)\n",
    "for i in range(3):\n",
    "    print(\"%s: %.2f%%\" % (model.metrics_names[i], score[i]*100))"
   ]
  },
  {
   "cell_type": "code",
   "execution_count": 19,
   "metadata": {},
   "outputs": [
    {
     "data": {
      "image/png": "[encoded data removed]",
      "text/plain": [
       "<Figure size 432x288 with 1 Axes>"
      ]
     },
     "metadata": {
      "needs_background": "light"
     },
     "output_type": "display_data"
    },
    {
     "data": {
      "image/png": "[encoded data removed]",
      "text/plain": [
       "<Figure size 432x288 with 1 Axes>"
      ]
     },
     "metadata": {
      "needs_background": "light"
     },
     "output_type": "display_data"
    },
    {
     "data": {
      "image/png": "[encoded data removed]",
      "text/plain": [
       "<Figure size 432x288 with 1 Axes>"
      ]
     },
     "metadata": {
      "needs_background": "light"
     },
     "output_type": "display_data"
    }
   ],
   "source": [
    "# figure, axis = plt.subplots(1, 3, figsize=(25,8))\n",
    "for i in range(3):\n",
    "    \n",
    "    plt.plot(range(50), df[cols[i]], 'r')\n",
    "    \n",
    "    plt.plot(range(50), df[cols[i+3]], 'b')\n",
    "    \n",
    "    plt.title(cols[i])\n",
    "    \n",
    "    plt.show()\n"
   ]
  },
  {
   "cell_type": "code",
   "execution_count": 17,
   "metadata": {},
   "outputs": [],
   "source": [
    "print(\"min( val_mae ) : {:.4f}\".format( min(history_2.history[\"val_mae\"]) ) )"
   ]
  },
  {
   "cell_type": "markdown",
   "metadata": {
    "tags": []
   },
   "source": [
    "## Step 7 - Make a prediction\n",
    "The data must be normalized with the parameters (mean, std) previously used."
   ]
  },
  {
   "cell_type": "markdown",
   "metadata": {},
   "source": [
    "### Plot outcome "
   ]
  },
  {
   "cell_type": "code",
   "execution_count": 30,
   "metadata": {},
   "outputs": [
    {
     "data": {
      "image/png": "[encoded data removed]",
      "text/plain": [
       "<Figure size 1440x720 with 1 Axes>"
      ]
     },
     "metadata": {
      "needs_background": "light"
     },
     "output_type": "display_data"
    }
   ],
   "source": [
    "def plot_pred(start,end, y_pred, y):  \n",
    "    \n",
    "    # Setup plot (2 rows, 1 column)\n",
    "    fig, comb = plt.subplots(nrows=1,ncols=1, sharex=True, figsize=(20, 10))\n",
    "    \n",
    "    # PLOT sup\n",
    "    comb.plot(range(len(y_pred[start:end])),y_pred[start:end], color='r', label = \"y_pred\") \n",
    "    \n",
    "    comb.plot(range(len(y[start:end])),y[start:end], color='b', label = \"y_real\")\n",
    "    \n",
    "    comb.set_title(\"Prediction\", fontsize=18)\n",
    "    \n",
    "    comb.legend(prop={'size':15})\n",
    "    \n",
    "    comb.set_ylabel('Cloud fraction', fontsize=18)\n",
    "    \n",
    "    comb.set_xlabel('Times', fontsize=18)\n",
    "    \n",
    "    comb.tick_params(labelsize=14)\n",
    "    \n",
    "    return \n",
    "\n",
    "data_comp_resutl = pd.DataFrame({'y_pred': y_pred_cln, 'y_real': y_real[:].tolist()})\n",
    "\n",
    "start = 0\n",
    "\n",
    "for i in range(1):\n",
    "    \n",
    "    end = start + 800\n",
    "    \n",
    "    plot_pred(start,end,data_comp_resutl['y_pred'], data_comp_resutl['y_real'])\n",
    "    \n",
    "    start = start + end\n",
    "    "
   ]
  },
  {
   "cell_type": "markdown",
   "metadata": {},
   "source": [
    "### Score \n",
    "\n",
    "* r2_score"
   ]
  },
  {
   "cell_type": "code",
   "execution_count": 48,
   "metadata": {},
   "outputs": [
    {
     "data": {
      "text/plain": [
       "91.78"
      ]
     },
     "execution_count": 48,
     "metadata": {},
     "output_type": "execute_result"
    }
   ],
   "source": [
    "round(r2_score(y_real[:], predictions[0][:]),4)*100"
   ]
  }
 ],
 "metadata": {
  "kernelspec": {
   "display_name": "Python 3",
   "language": "python",
   "name": "python3"
  },
  "language_info": {
   "codemirror_mode": {
    "name": "ipython",
    "version": 3
   },
   "file_extension": ".py",
   "mimetype": "text/x-python",
   "name": "python",
   "nbconvert_exporter": "python",
   "pygments_lexer": "ipython3",
   "version": "3.8.5"
  }
 },
 "nbformat": 4,
 "nbformat_minor": 4
}
